{
 "cells": [
  {
   "cell_type": "code",
   "execution_count": 4,
   "metadata": {},
   "outputs": [],
   "source": [
    "import os\n",
    "import pandas as pd\n",
    "import numpy as np\n",
    "import torch"
   ]
  },
  {
   "cell_type": "code",
   "execution_count": 7,
   "metadata": {},
   "outputs": [
    {
     "data": {
      "text/plain": [
       "0    ezaateekebwawo\n",
       "1        mozambican\n",
       "2           freedom\n",
       "3          fighters\n",
       "4       kubinjawaza\n",
       "Name: Word, dtype: object"
      ]
     },
     "execution_count": 7,
     "metadata": {},
     "output_type": "execute_result"
    }
   ],
   "source": [
    "#words = open(\"./corpus_df.csv\", \"r\").read().splitlines()\n",
    "#words[:10]\n",
    "words = pd.read_csv(\"./corpus_df.csv\")\n",
    "words = words[words[\"Language\"]==\"lug\"][\"Word\"]\n",
    "words.reset_index(drop=True, inplace=True)\n",
    "words.head()"
   ]
  },
  {
   "cell_type": "code",
   "execution_count": 9,
   "metadata": {},
   "outputs": [
    {
     "name": "stdout",
     "output_type": "stream",
     "text": [
      "len words: 5776\n",
      "min word len: 1\n",
      "max word len: 21\n"
     ]
    }
   ],
   "source": [
    "words = list(words.values)\n",
    "print(f\"len words: {len(words)}\")\n",
    "print(f\"min word len: {min([len(x) for x in words])}\")\n",
    "print(f\"max word len: {max([len(x) for x in words])}\")"
   ]
  },
  {
   "cell_type": "markdown",
   "metadata": {},
   "source": [
    "### Build Bigram language model for next token prediction\n"
   ]
  },
  {
   "cell_type": "code",
   "execution_count": null,
   "metadata": {},
   "outputs": [],
   "source": []
  }
 ],
 "metadata": {
  "kernelspec": {
   "display_name": "env",
   "language": "python",
   "name": "python3"
  },
  "language_info": {
   "codemirror_mode": {
    "name": "ipython",
    "version": 3
   },
   "file_extension": ".py",
   "mimetype": "text/x-python",
   "name": "python",
   "nbconvert_exporter": "python",
   "pygments_lexer": "ipython3",
   "version": "3.11.4"
  },
  "orig_nbformat": 4
 },
 "nbformat": 4,
 "nbformat_minor": 2
}
