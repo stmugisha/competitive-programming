{
 "cells": [
  {
   "cell_type": "code",
   "execution_count": 2,
   "metadata": {},
   "outputs": [],
   "source": [
    "import os\n",
    "from glob import glob\n",
    "import gzip\n",
    "import zlib\n",
    "from tqdm import tqdm\n",
    "from collections import Counter\n",
    "from concurrent.futures import ThreadPoolExecutor\n",
    "import numpy as np\n",
    "import pandas as pd\n",
    "import xgboost as xgb\n",
    "import transformers\n",
    "import emoji\n",
    "from transformers import AutoTokenizer, AutoModel\n",
    "from sklearn.feature_extraction.text import CountVectorizer, TfidfVectorizer\n",
    "from sklearn.preprocessing import LabelEncoder\n",
    "from sklearn.model_selection import StratifiedGroupKFold, StratifiedKFold\n",
    "from sklearn.linear_model import LogisticRegression\n",
    "from sklearn.metrics import accuracy_score\n",
    "\n",
    "from matplotlib import pyplot as plt\n",
    "#\n",
    "#import emoji\n",
    "#from emoji import unicode_codes\n",
    "#help(unicode_codes)"
   ]
  },
  {
   "cell_type": "code",
   "execution_count": 3,
   "metadata": {},
   "outputs": [
    {
     "name": "stdout",
     "output_type": "stream",
     "text": [
      "Available languages: {'kin', 'pcm', 'ewe', 'wol', 'fon', 'ibo', 'bbj', 'xho', 'twi', 'swa', 'sna', 'lug', 'mos', 'hau', 'zul', 'yor', 'nya', 'bam'}\n"
     ]
    }
   ],
   "source": [
    "DATASETS_DIR = \"./data/\"\n",
    "ALL_CORPUS = glob(DATASETS_DIR + \"*/*.txt\") # tokenization/vectorization purposes\n",
    "LANGUAGES = set(os.listdir(DATASETS_DIR)).difference({\"Test.csv\", \"SampleSubmission.csv\"})\n",
    "COLUMN_NAMES = [\"Word\", \"POS\"] # since txt files have no headers\n",
    "\n",
    "#print(\"...Data counts....\")\n",
    "#print(f\"Num datasets in entire corpus: {len(ALL_CORPUS)}\\nTrain datasets: {len(TRAIN_DATASETS)}\\nVal datasets: {len(VAL_DATASETS)}\\\n",
    "#\t\\nTest datasets: {len(TEST_DATASETS)}\")\n",
    "#print(f\"Train datasets list:\\n{TRAIN_DATASETS}\")\n",
    "## Merge all language corpus for vectorization\n",
    "print(f\"Available languages: {LANGUAGES}\")\n",
    "\n",
    "# corpus analysis: num tokens, max token length each language(train,val,test)\n",
    "# count vectorization (BoW) for each lang, count vectors to dense embedding, concat all lang vectors into\n",
    "# one vector embedding and train a base model on these and test\n",
    "# test tfidf approach and repeat above steps\n",
    "# use of pretrained word embeddings XLM-roberta models, existing similar hf model for these langs\n",
    "# train a custom tokenizer (BPE, sentencepiece,)"
   ]
  },
  {
   "cell_type": "code",
   "execution_count": 4,
   "metadata": {},
   "outputs": [
    {
     "name": "stdout",
     "output_type": "stream",
     "text": [
      "Corpus df shape: (654842, 4)\n",
      "Corpus df num langs: 18\n",
      "De-duped corpus: (99636, 4)\n"
     ]
    }
   ],
   "source": [
    "# load entire corpus for all languages\n",
    "corpus_df = pd.DataFrame(columns=COLUMN_NAMES+[\"LANG\", \"split\"])\n",
    "for dset in ALL_CORPUS:\n",
    "\ttemp_df = pd.DataFrame(columns=COLUMN_NAMES+[\"LANG\", \"split\"])\n",
    "\ttemp_data = {\"Word\": [], \"POS\": []}\n",
    "\twith open(dset, \"r\") as f:\n",
    "\t\tlines = f.readlines()\n",
    "\t\tfor line in lines:\n",
    "\t\t\tif len(line) <= 1:\n",
    "\t\t\t\tcontinue\n",
    "\t\t\tline_split = line.strip().split(\" \")\n",
    "\t\t\ttemp_data[\"Word\"].append(line_split[0].lower())\n",
    "\t\t\ttemp_data[\"POS\"].append(line_split[1])\n",
    "\t\ttemp_df[\"Word\"] = temp_data[\"Word\"]\n",
    "\t\ttemp_df[\"POS\"] = temp_data[\"POS\"]\n",
    "\t\ttemp_df[\"LANG\"] = dset.split(\"/\")[-2]\n",
    "\t\ttemp_df[\"split\"] = dset.split(\"/\")[-1][:-4]\n",
    "\t\tcorpus_df = pd.concat([corpus_df, temp_df], axis=0)\n",
    "\t\t#print(f\"Cumm. retry df shape: {corpus_df.shape}\")\n",
    "\n",
    "print(f\"Corpus df shape: {corpus_df.shape}\")\n",
    "print(f\"Corpus df num langs: {corpus_df['LANG'].nunique()}\")\n",
    "\n",
    "# drop duplicates\n",
    "corpus_df = corpus_df.drop_duplicates(keep=False)\n",
    "print(f\"De-duped corpus: {corpus_df.shape}\")\n",
    "\n",
    "# reset index\n",
    "corpus_df.reset_index(drop=True, inplace=True)"
   ]
  },
  {
   "cell_type": "code",
   "execution_count": 5,
   "metadata": {},
   "outputs": [
    {
     "name": "stdout",
     "output_type": "stream",
     "text": [
      "Min token len: 1\n",
      "Max token len: 38\n",
      "Vocab size: (99636,)\n"
     ]
    },
    {
     "data": {
      "text/html": [
       "<div>\n",
       "<style scoped>\n",
       "    .dataframe tbody tr th:only-of-type {\n",
       "        vertical-align: middle;\n",
       "    }\n",
       "\n",
       "    .dataframe tbody tr th {\n",
       "        vertical-align: top;\n",
       "    }\n",
       "\n",
       "    .dataframe thead th {\n",
       "        text-align: right;\n",
       "    }\n",
       "</style>\n",
       "<table border=\"1\" class=\"dataframe\">\n",
       "  <thead>\n",
       "    <tr style=\"text-align: right;\">\n",
       "      <th></th>\n",
       "      <th>Word</th>\n",
       "      <th>POS</th>\n",
       "      <th>LANG</th>\n",
       "      <th>split</th>\n",
       "    </tr>\n",
       "  </thead>\n",
       "  <tbody>\n",
       "    <tr>\n",
       "      <th>0</th>\n",
       "      <td>chetekwa</td>\n",
       "      <td>VERB</td>\n",
       "      <td>ibo</td>\n",
       "      <td>dev</td>\n",
       "    </tr>\n",
       "    <tr>\n",
       "      <th>1</th>\n",
       "      <td>ịma</td>\n",
       "      <td>VERB</td>\n",
       "      <td>ibo</td>\n",
       "      <td>dev</td>\n",
       "    </tr>\n",
       "    <tr>\n",
       "      <th>2</th>\n",
       "      <td>adịrịrị</td>\n",
       "      <td>VERB</td>\n",
       "      <td>ibo</td>\n",
       "      <td>dev</td>\n",
       "    </tr>\n",
       "    <tr>\n",
       "      <th>3</th>\n",
       "      <td>ụkwa</td>\n",
       "      <td>NOUN</td>\n",
       "      <td>ibo</td>\n",
       "      <td>dev</td>\n",
       "    </tr>\n",
       "    <tr>\n",
       "      <th>4</th>\n",
       "      <td>jighị</td>\n",
       "      <td>VERB</td>\n",
       "      <td>ibo</td>\n",
       "      <td>dev</td>\n",
       "    </tr>\n",
       "  </tbody>\n",
       "</table>\n",
       "</div>"
      ],
      "text/plain": [
       "       Word   POS LANG split\n",
       "0  chetekwa  VERB  ibo   dev\n",
       "1       ịma  VERB  ibo   dev\n",
       "2   adịrịrị  VERB  ibo   dev\n",
       "3      ụkwa  NOUN  ibo   dev\n",
       "4     jighị  VERB  ibo   dev"
      ]
     },
     "execution_count": 5,
     "metadata": {},
     "output_type": "execute_result"
    }
   ],
   "source": [
    "token_len = np.vectorize(len) # map(len, corpus_df[\"Word\"].values)\n",
    "token_lengths = token_len(corpus_df[\"Word\"].values)\n",
    "print(f\"Min token len: {min(token_lengths)}\\nMax token len: {max(token_lengths)}\\nVocab size: {token_lengths.shape}\")\n",
    "corpus_df.head()"
   ]
  },
  {
   "cell_type": "code",
   "execution_count": 8,
   "metadata": {},
   "outputs": [
    {
     "data": {
      "text/plain": [
       "<Axes: title={'center': 'Top 60 Tokens by Frequency'}, xlabel='Word', ylabel='Frequency'>"
      ]
     },
     "execution_count": 8,
     "metadata": {},
     "output_type": "execute_result"
    },
    {
     "data": {
      "image/png": "[encoded data removed]",
      "text/plain": [
       "<Figure size 1600x600 with 1 Axes>"
      ]
     },
     "metadata": {},
     "output_type": "display_data"
    }
   ],
   "source": [
    "## token frequencies\n",
    "plt.figure(figsize=(16, 6))\n",
    "plt.title(\"Top 60 Tokens by Frequency\")\n",
    "plt.ylabel(\"Frequency\")\n",
    "corpus_df[\"Word\"].value_counts()[:60].plot(kind=\"bar\")"
   ]
  },
  {
   "cell_type": "code",
   "execution_count": 7,
   "metadata": {},
   "outputs": [
    {
     "name": "stdout",
     "output_type": "stream",
     "text": [
      "(2, 4) (99636, 4)\n",
      "(97830, 4)\n"
     ]
    },
    {
     "data": {
      "text/html": [
       "<div>\n",
       "<style scoped>\n",
       "    .dataframe tbody tr th:only-of-type {\n",
       "        vertical-align: middle;\n",
       "    }\n",
       "\n",
       "    .dataframe tbody tr th {\n",
       "        vertical-align: top;\n",
       "    }\n",
       "\n",
       "    .dataframe thead th {\n",
       "        text-align: right;\n",
       "    }\n",
       "</style>\n",
       "<table border=\"1\" class=\"dataframe\">\n",
       "  <thead>\n",
       "    <tr style=\"text-align: right;\">\n",
       "      <th></th>\n",
       "      <th>Word</th>\n",
       "      <th>POS</th>\n",
       "      <th>LANG</th>\n",
       "      <th>split</th>\n",
       "    </tr>\n",
       "  </thead>\n",
       "  <tbody>\n",
       "    <tr>\n",
       "      <th>53102</th>\n",
       "      <td>❤</td>\n",
       "      <td>PUNCT</td>\n",
       "      <td>xho</td>\n",
       "      <td>train</td>\n",
       "    </tr>\n",
       "    <tr>\n",
       "      <th>53103</th>\n",
       "      <td>👍</td>\n",
       "      <td>PUNCT</td>\n",
       "      <td>xho</td>\n",
       "      <td>train</td>\n",
       "    </tr>\n",
       "  </tbody>\n",
       "</table>\n",
       "</div>"
      ],
      "text/plain": [
       "      Word    POS LANG  split\n",
       "53102    ❤  PUNCT  xho  train\n",
       "53103    👍  PUNCT  xho  train"
      ]
     },
     "execution_count": 7,
     "metadata": {},
     "output_type": "execute_result"
    }
   ],
   "source": [
    "## Check for any non string or digit characters\n",
    "non_str_chars = corpus_df[corpus_df[\"Word\"].apply(lambda x: x in emoji.EMOJI_DATA)]\n",
    "print(non_str_chars.shape, corpus_df.shape)\n",
    "# Drop emojis from corpus\n",
    "corpus_df = corpus_df[corpus_df[\"Word\"].apply(lambda x: x not in emoji.EMOJI_DATA)]\n",
    "corpus_df = corpus_df[~corpus_df[\"Word\"].apply(lambda x: x.isdigit())]\n",
    "# drop digits/numbers from copus\n",
    "print(corpus_df.shape)\n",
    "## Save preprocessed data to disk\n",
    "#corpus_df.to_csv(\"corpus_df.csv\", index=False)\n",
    "non_str_chars.head()"
   ]
  },
  {
   "cell_type": "code",
   "execution_count": 9,
   "metadata": {},
   "outputs": [
    {
     "data": {
      "text/plain": [
       "'\\ntest_data = corpus_df[corpus_df[\"LANG\"] == \"xho\"]\\nprint(f\"Xho test data shape: {test_data.shape}\")\\nword_vectors, vectorizer = generate_word_vectors(test_data[\"Word\"], vectorizer=\"tfidf\")\\ndense_word_vector_array = word_vectors.toarray()\\nword_vectors.shape\\n'"
      ]
     },
     "execution_count": 9,
     "metadata": {},
     "output_type": "execute_result"
    }
   ],
   "source": [
    "\"\"\"\n",
    "test_data = corpus_df[corpus_df[\"LANG\"] == \"xho\"]\n",
    "print(f\"Xho test data shape: {test_data.shape}\")\n",
    "word_vectors, vectorizer = generate_word_vectors(test_data[\"Word\"], vectorizer=\"tfidf\")\n",
    "dense_word_vector_array = word_vectors.toarray()\n",
    "word_vectors.shape\n",
    "\"\"\""
   ]
  },
  {
   "cell_type": "code",
   "execution_count": 10,
   "metadata": {},
   "outputs": [
    {
     "data": {
      "text/plain": [
       "'\\nfrom sklearn.decomposition import TruncatedSVD\\n\\nsvd = TruncatedSVD(n_components=20, random_state=42)\\nsvd.fit(word_vectors)\\n'"
      ]
     },
     "execution_count": 10,
     "metadata": {},
     "output_type": "execute_result"
    }
   ],
   "source": [
    "\"\"\"\n",
    "from sklearn.decomposition import TruncatedSVD\n",
    "\n",
    "svd = TruncatedSVD(n_components=20, random_state=42)\n",
    "svd.fit(word_vectors)\n",
    "\"\"\""
   ]
  },
  {
   "cell_type": "code",
   "execution_count": 11,
   "metadata": {},
   "outputs": [],
   "source": [
    "class Embedding:\n",
    "\tdef __init__(self, word, vector):\n",
    "\t\t\"\"\"Pair a word with its corresponding learned embedding.\"\"\"\n",
    "\t\tself.word = np.asarray(word)\n",
    "\t\tself.vector = np.array(vector) if not isinstance(vector, np.ndarray) else vector\n",
    "\t\tself.vector = np.amax(self.vector, axis=1)\n",
    "\t\tself.word_vector = []\n",
    "\t\t\n",
    "\t\tassert self.word.shape[0] == self.vector.shape[0]\n",
    "\t\n",
    "\t\tfor i in range(self.word.shape[0]):\n",
    "\t\t\tself.word_vector.append([self.word[i], self.vector[i]])\n",
    "\n",
    "\tdef __repr__(self):\n",
    "\t\treturn f\"embedding({np.asarray(self.word_vector)})\"\n",
    "\n",
    "\tdef __str__(self):\n",
    "\t\treturn self.word\n",
    "\t\n",
    "\n",
    "#svd_vec = svd.transform(vectorizer.transform(test_data[\"Word\"][:10]))\n",
    "#embedding = Embedding(test_data[\"Word\"][:10], svd_vec)\n",
    "#embedding"
   ]
  },
  {
   "cell_type": "code",
   "execution_count": 12,
   "metadata": {},
   "outputs": [],
   "source": [
    "#fig, ax = plt.subplots()\n",
    "#for idx, point in enumerate(dense_word_vector_array):\n",
    "#\tcomponent = dense_word_vector_array[idx, 0:]\n",
    "#\tprint(component.shape)\n",
    "#\tcols = np.array([i for i in range(component.shape[0])]) #dense_word_vector_array[idx, 0]\n",
    "#\tax.scatter(component, cols)\n",
    "#plt.show()\n",
    "#plt.scatter(dense_word_vector_array[:,0], dense_word_vector_array) #[np.nonzero(dense_word_vector_array)]\n",
    "test_df = pd.read_csv(os.path.join(DATASETS_DIR, \"Test.csv\"))\n",
    "test_df[\"Word\"] = test_df[\"Word\"].apply(lambda x: x.lower())"
   ]
  },
  {
   "cell_type": "code",
   "execution_count": 13,
   "metadata": {},
   "outputs": [],
   "source": [
    "def generate_word_vectors(data, vectorizer=\"tfidf\"):\n",
    "\t\"\"\"Create word vectors for the input data\n",
    "\n",
    "\tvectorize accepts either `tfidf` or `count_vectorize` as arguments.\n",
    "\tArgs:\n",
    "\t\tdata: list of text to be vectorized\n",
    "\t\tvectorizer: whether to use `tfidf` vectorizer or `count_vectorizer`\n",
    "\n",
    "\tReturns:\n",
    "\t\t- sparse matrix of word vectors.\n",
    "\t\t- word vectorizer object\n",
    "\t\"\"\"\n",
    "\tif vectorizer == \"tfidf\":\n",
    "\t\tword_vectorizer = TfidfVectorizer(\n",
    "\t\t\tmin_df=1,\n",
    "\t\t\tanalyzer=\"char\",\n",
    "\t\t\tmax_features=50_000,\n",
    "\t\t\tngram_range=(1, 4)\n",
    "\t\t)\n",
    "\t\tword_vectors = word_vectorizer.fit_transform(data)\n",
    "\t\treturn word_vectors, word_vectorizer\n",
    "\telse:\n",
    "\t\tword_vectorizer = CountVectorizer(\n",
    "\t\t\tmin_df=1,\n",
    "\t\t\tanalyzer=\"char\",\n",
    "\t\t\tmax_features=50_000,\n",
    "\t\t\tngram_range=(1, 6)\n",
    "\t\t)\n",
    "\t\tword_vectors = word_vectorizer.fit_transform(data)\n",
    "\t\treturn word_vectors, word_vectorizer\n",
    "\n",
    "## split data\n",
    "groups = corpus_df['LANG']#.unique()\n",
    "#all_corpus = corpus_df[\"Word\"].tolist()\n",
    "#all_corpus.extend(test_df[\"Word\"].tolist())\n",
    "#print(len(all_corpus))\n",
    "feature_vectors, vectorizer = generate_word_vectors(corpus_df[\"Word\"].values, vectorizer=\"tfidf\") #corpus_df[\"Word\"]\n",
    "test_vectors = vectorizer.transform(test_df[\"Word\"])\n",
    "#feature_vectors = all_vectors[:corpus_df.shape[0]]\n",
    "#print(feature_vectors.shape, test_vectors.shape)\n",
    "label_encoder = LabelEncoder()\n",
    "corpus_df[\"POS\"] = label_encoder.fit_transform(corpus_df[\"POS\"])\n",
    "labels = corpus_df[\"POS\"]\n",
    "skfold = StratifiedGroupKFold(n_splits=5, shuffle=False)#, random_state=42) #17 splits"
   ]
  },
  {
   "cell_type": "code",
   "execution_count": 33,
   "metadata": {},
   "outputs": [
    {
     "name": "stdout",
     "output_type": "stream",
     "text": [
      "Fold 0 score: 0.5712152881457151\n",
      "Fold 1 score: 0.603181870207165\n"
     ]
    },
    {
     "name": "stderr",
     "output_type": "stream",
     "text": [
      "/Users/smugisha/Downloads/POS_tagging/env/lib/python3.11/site-packages/sklearn/linear_model/_logistic.py:460: ConvergenceWarning: lbfgs failed to converge (status=1):\n",
      "STOP: TOTAL NO. of ITERATIONS REACHED LIMIT.\n",
      "\n",
      "Increase the number of iterations (max_iter) or scale the data as shown in:\n",
      "    https://scikit-learn.org/stable/modules/preprocessing.html\n",
      "Please also refer to the documentation for alternative solver options:\n",
      "    https://scikit-learn.org/stable/modules/linear_model.html#logistic-regression\n",
      "  n_iter_i = _check_optimize_result(\n"
     ]
    },
    {
     "name": "stdout",
     "output_type": "stream",
     "text": [
      "Fold 2 score: 0.5536523929471032\n",
      "Fold 3 score: 0.4063505999414691\n",
      "Fold 4 score: 0.41887561899213516\n",
      "Fold 5 score: 0.3776726584673605\n",
      "Fold 6 score: 0.44197756923781184\n"
     ]
    },
    {
     "name": "stderr",
     "output_type": "stream",
     "text": [
      "/Users/smugisha/Downloads/POS_tagging/env/lib/python3.11/site-packages/sklearn/linear_model/_logistic.py:460: ConvergenceWarning: lbfgs failed to converge (status=1):\n",
      "STOP: TOTAL NO. of ITERATIONS REACHED LIMIT.\n",
      "\n",
      "Increase the number of iterations (max_iter) or scale the data as shown in:\n",
      "    https://scikit-learn.org/stable/modules/preprocessing.html\n",
      "Please also refer to the documentation for alternative solver options:\n",
      "    https://scikit-learn.org/stable/modules/linear_model.html#logistic-regression\n",
      "  n_iter_i = _check_optimize_result(\n"
     ]
    },
    {
     "name": "stdout",
     "output_type": "stream",
     "text": [
      "Fold 7 score: 0.4267923856964953\n"
     ]
    },
    {
     "name": "stderr",
     "output_type": "stream",
     "text": [
      "/Users/smugisha/Downloads/POS_tagging/env/lib/python3.11/site-packages/sklearn/linear_model/_logistic.py:460: ConvergenceWarning: lbfgs failed to converge (status=1):\n",
      "STOP: TOTAL NO. of ITERATIONS REACHED LIMIT.\n",
      "\n",
      "Increase the number of iterations (max_iter) or scale the data as shown in:\n",
      "    https://scikit-learn.org/stable/modules/preprocessing.html\n",
      "Please also refer to the documentation for alternative solver options:\n",
      "    https://scikit-learn.org/stable/modules/linear_model.html#logistic-regression\n",
      "  n_iter_i = _check_optimize_result(\n"
     ]
    },
    {
     "name": "stdout",
     "output_type": "stream",
     "text": [
      "Fold 8 score: 0.35265438786565545\n",
      "Fold 9 score: 0.4518698060941828\n"
     ]
    },
    {
     "name": "stderr",
     "output_type": "stream",
     "text": [
      "/Users/smugisha/Downloads/POS_tagging/env/lib/python3.11/site-packages/sklearn/linear_model/_logistic.py:460: ConvergenceWarning: lbfgs failed to converge (status=1):\n",
      "STOP: TOTAL NO. of ITERATIONS REACHED LIMIT.\n",
      "\n",
      "Increase the number of iterations (max_iter) or scale the data as shown in:\n",
      "    https://scikit-learn.org/stable/modules/preprocessing.html\n",
      "Please also refer to the documentation for alternative solver options:\n",
      "    https://scikit-learn.org/stable/modules/linear_model.html#logistic-regression\n",
      "  n_iter_i = _check_optimize_result(\n"
     ]
    },
    {
     "name": "stdout",
     "output_type": "stream",
     "text": [
      "Fold 10 score: 0.3897584541062802\n",
      "Fold 11 score: 0.3391003460207612\n",
      "Fold 12 score: 0.2808176749948379\n",
      "Fold 13 score: 0.38791615289765724\n",
      "Fold 14 score: 0.4187517184492714\n",
      "Fold 15 score: 0.3962018730489074\n",
      "Fold 16 score: 0.4123854484865315\n",
      "Fold 17 score: 0.39629507112140255\n",
      "Average accuracy: 0.4236371842622635\n"
     ]
    }
   ],
   "source": [
    "## Model training: BASE MODEL\n",
    "xgb_model = xgb.XGBClassifier(\n",
    "\tmax_depth=7,\n",
    "\tcolsample_bytree=0.9,\n",
    "\tsubsample=0.9,\n",
    "\tobjective=\"multi:softprob\",\n",
    "\tn_estimators=150,\n",
    "\tlearning_rate=0.1,\n",
    "\trandom_state=42\n",
    ")\n",
    "#xgb_model.predict() #predict_proba()[:, 1]\n",
    "lr_model = LogisticRegression(C=8, random_state=42, max_iter=1000)\n",
    "\n",
    "scores = []\n",
    "for i, (train_idx, val_idx) in enumerate(skfold.split(feature_vectors, labels, groups=groups)):#, groups)):\n",
    "\tx_train, y_train = feature_vectors[train_idx], np.take(labels, train_idx, axis=0)\n",
    "\tx_val, y_val = feature_vectors[val_idx], np.take(labels, val_idx, axis=0)\n",
    "\tlr_model.fit(x_train, y_train)\n",
    "\tscore = accuracy_score(y_val, lr_model.predict(x_val))\n",
    "\tscores.append(score)\n",
    "\tprint(f\"Fold {i} score: {score}\")\n",
    "print(f\"Average accuracy: {np.mean(scores)}\")"
   ]
  },
  {
   "cell_type": "markdown",
   "metadata": {},
   "source": [
    "#### 2. gzip compression, nearest neighbour approach"
   ]
  },
  {
   "cell_type": "code",
   "execution_count": 14,
   "metadata": {},
   "outputs": [
    {
     "name": "stdout",
     "output_type": "stream",
     "text": [
      "Test_df head:\n",
      "               Id  Word Language  Pos\n",
      "0  Id00qog2f11n_0    ne      luo  NaN\n",
      "1  Id00qog2f11n_1  otim      luo  NaN\n",
      "2  Id00qog2f11n_2  penj      luo  NaN\n",
      "3  Id00qog2f11n_3     e      luo  NaN\n",
      "4  Id00qog2f11n_4  kind      luo  NaN\n",
      "corpus_df head:\n",
      "       Word  POS LANG split\n",
      "0  chetekwa   15  ibo   dev\n",
      "1       ịma   15  ibo   dev\n",
      "2   adịrịrị   15  ibo   dev\n",
      "3      ụkwa    7  ibo   dev\n",
      "4     jighị   15  ibo   dev\n",
      "corpus_df size: (97830, 4), test_df size: (32045, 4)\n"
     ]
    }
   ],
   "source": [
    "corpus_df.shape, test_df.shape\n",
    "print(f\"Test_df head:\\n{test_df.head()}\")\n",
    "print(f\"corpus_df head:\\n{corpus_df.head()}\")\n",
    "print(f\"corpus_df size: {corpus_df.shape}, test_df size: {test_df.shape}\")"
   ]
  },
  {
   "cell_type": "code",
   "execution_count": 39,
   "metadata": {},
   "outputs": [
    {
     "name": "stderr",
     "output_type": "stream",
     "text": [
      "  0%|          | 5/32045 [00:00<00:19, 1669.97it/s]"
     ]
    },
    {
     "name": "stdout",
     "output_type": "stream",
     "text": [
      "NOUN 22\n",
      "PROPN 24\n",
      "NOUN 24\n",
      "ADP 21\n",
      "PROPN 24\n"
     ]
    },
    {
     "name": "stderr",
     "output_type": "stream",
     "text": [
      "\n"
     ]
    }
   ],
   "source": [
    "for row_test in tqdm(test_df[:5].iterrows(), total=test_df.shape[0]):\n",
    "\tprint(row_test[1][\"Pos\"], len(gzip.compress(row_test[1][\"Word\"].encode())))"
   ]
  },
  {
   "cell_type": "code",
   "execution_count": 15,
   "metadata": {},
   "outputs": [
    {
     "data": {
      "text/plain": [
       "'def compute_concat_ncd(data_df: pd.DataFrame, string_2: str):\\n\\t\\n\\t#Computes the normalized compression distance between each string in a dataframe\\n\\t#and another input string.\\n\\t\\n\\tdistance_from_test = [] # distances of string_1(train) from string_2(test)\\n\\tfor row_train in data_df.iterrows():\\n\\t\\tstring_1 = row_train[1][\"Word\"]\\n\\t\\ttrain_label = row_train[1][\"POS\"]\\n\\t\\tcompressed_str1 = len(gzip.compress(string_1.encode()))\\n\\t\\tcompressed_str2 = len(gzip.compress(string_2.encode()))\\n\\t\\tstr1_str2 = \" \".join([string2, string_1])\\n\\t\\tcompressed_str1_str2 = len(gzip.compress(str1_str2.encode()))\\n\\n\\t\\tncd = (\\n\\t\\t\\t(compressed_str1_str2 - min(compressed_str1, compressed_str2)) / max(compressed_str1, compressed_str2)\\n\\t\\t) # normalized compression distance: similarity btn two strings based on the length of their compressed forms.\\n\\t\\t## 0 implies two texts are identical while 1 implies no similarity.\\n\\t\\t## ncd is computed by:\\n\\t\\t## compressing two strings individually as well as their concatenation, \\n\\t\\t## \\n\\t\\tdistance_from_test.append(ncd)\\n\\n\\treturn distance_from_test'"
      ]
     },
     "execution_count": 15,
     "metadata": {},
     "output_type": "execute_result"
    }
   ],
   "source": [
    "class Chunker:\n",
    "\t\"\"\"Split data into chunks while preserving the original data ordering.\"\"\"\n",
    "\t\n",
    "\tdef __init__(self, data: list, chunk_size: int):\n",
    "\t\tself.data = data\n",
    "\t\tself.chunk_size = chunk_size\n",
    "\n",
    "\tdef chunk(self):\n",
    "\t\t\"\"\"Split data into chunks.\"\"\"\n",
    "\t\t#return [self.data[pos: pos + self.chunk_size] for pos in range(0, len(self.data), self.chunk_size)]\n",
    "\t\tchunks = []\n",
    "\t\tfor pos in range(0, len(self.data), self.chunk_size):\n",
    "\t\t\tchunks.append([self.data[pos:pos + self.chunk_size]])\n",
    "\n",
    "\t\tchunks = [] # another iter to concat adjacent pairs starting at index 1 till the end\n",
    "\t\treturn chunks\n",
    "\n",
    "\n",
    "\"\"\"def compute_concat_ncd(data_df: pd.DataFrame, string_2: str):\n",
    "\t\n",
    "\t#Computes the normalized compression distance between each string in a dataframe\n",
    "\t#and another input string.\n",
    "\t\n",
    "\tdistance_from_test = [] # distances of string_1(train) from string_2(test)\n",
    "\tfor row_train in data_df.iterrows():\n",
    "\t\tstring_1 = row_train[1][\"Word\"]\n",
    "\t\ttrain_label = row_train[1][\"POS\"]\n",
    "\t\tcompressed_str1 = len(gzip.compress(string_1.encode()))\n",
    "\t\tcompressed_str2 = len(gzip.compress(string_2.encode()))\n",
    "\t\tstr1_str2 = \" \".join([string2, string_1])\n",
    "\t\tcompressed_str1_str2 = len(gzip.compress(str1_str2.encode()))\n",
    "\n",
    "\t\tncd = (\n",
    "\t\t\t(compressed_str1_str2 - min(compressed_str1, compressed_str2)) / max(compressed_str1, compressed_str2)\n",
    "\t\t) # normalized compression distance: similarity btn two strings based on the length of their compressed forms.\n",
    "\t\t## 0 implies two texts are identical while 1 implies no similarity.\n",
    "\t\t## ncd is computed by:\n",
    "\t\t## compressing two strings individually as well as their concatenation, \n",
    "\t\t## \n",
    "\t\tdistance_from_test.append(ncd)\n",
    "\n",
    "\treturn distance_from_test\"\"\""
   ]
  },
  {
   "cell_type": "code",
   "execution_count": 17,
   "metadata": {},
   "outputs": [],
   "source": [
    "## Load embeddings from disk\n",
    "afroxlmr_train_features = np.load(\"./afroxlmr_train_features.npy\")\n",
    "afroxlmr_test_features = np.load(\"./afroxlmr_test_features.npy\")\n",
    "\n",
    "mdeberta_train_features = np.load(\"./mdeberta_train_features.npy\")\n",
    "mdeberta_test_features = np.load(\"./mdeberta_test_features.npy\")\n",
    "\n",
    "all_train_features = np.concatenate(\n",
    "\t[afroxlmr_train_features, mdeberta_train_features],\n",
    "\taxis=1\n",
    ")\n",
    "all_test_features = np.concatenate(\n",
    "\t[afroxlmr_test_features, mdeberta_test_features],\n",
    "\taxis=1\n",
    ")"
   ]
  },
  {
   "cell_type": "code",
   "execution_count": 26,
   "metadata": {},
   "outputs": [],
   "source": [
    "import multiprocessing as mp\n",
    "from joblib import Parallel, delayed\n",
    "from numpy.linalg import norm\n",
    "\n",
    "def divide_range_into_chunks(start, end, num_chunks):\n",
    "\tchunk_size = (end - start) // num_chunks\n",
    "\tranges = [(i, i + chunk_size) for i in range(start, end, chunk_size)]\n",
    "\tranges[-1] = (ranges[-1][0], end) # last chunk must include end\n",
    "\treturn ranges\n",
    "\n",
    "def compute_concat_ncd(embedding, test_vec):\n",
    "\t\"\"\"\n",
    "\tComputes the normalized compression distance between each string in a dataframe subset\n",
    "\tand another input string.\n",
    "\t\"\"\"\n",
    "\tdistance_from_test = [] # distances of train_txt[i] from test_txt\n",
    "\tfor idx in range(embedding.shape[0]):\n",
    "\t\t#index = row_train[0]\n",
    "\t\t#train_txt = row_train[1][\"Word\"]\n",
    "\t\t#compressed_train_txt = d[idx]\n",
    "\t\t#train_test_txt = \" \".join([test_txt, train_txt])\n",
    "\t\t#compressed_train_test = len(gzip.compress(train_test_txt.encode()))\n",
    "\t\ttrain_vec = embedding[idx].reshape(-1)\n",
    "\t\tcosine_sim = 1 - np.dot(test_vec, train_vec) / (norm(test_vec) * norm(train_vec)) \n",
    "\t\t#ncd = (\n",
    "\t\t#\t(compressed_train_test - min(compressed_train_txt, compressed_test_txt)) / max(compressed_train_txt, compressed_test_txt)\n",
    "\t\t#) # normalized compression distance: similarity btn two strings based on the length of their compressed forms.\n",
    "\t\t## 0 implies two texts are identical while 1 implies no similarity.\n",
    "\t\t## ncd is computed by:\n",
    "\t\t## compressing two strings individually as well as their concatenation, \n",
    "\n",
    "\t\tdistance_from_test.append(cosine_sim)\n",
    "\n",
    "\treturn distance_from_test\n",
    "\t"
   ]
  },
  {
   "cell_type": "code",
   "execution_count": 29,
   "metadata": {},
   "outputs": [
    {
     "name": "stderr",
     "output_type": "stream",
     "text": [
      "100%|██████████| 32045/32045 [4:41:48<00:00,  1.90it/s]  "
     ]
    },
    {
     "name": "stdout",
     "output_type": "stream",
     "text": [
      "[10, 7, 7, 5, 0, 11, 7, 8, 7, 11]\n"
     ]
    },
    {
     "name": "stderr",
     "output_type": "stream",
     "text": [
      "\n"
     ]
    }
   ],
   "source": [
    "K = 2\n",
    "predicted_classes = []\n",
    "num_workers = min(8, os.cpu_count())\n",
    "start = 0\n",
    "end = corpus_df.shape[0]\n",
    "ranges = divide_range_into_chunks(start, end, num_chunks=num_workers)\n",
    "#print(ranges)\n",
    "# Cache compressed train examples\n",
    "#d = {}\n",
    "#for i, row_train in enumerate(corpus_df.iterrows()):\n",
    "#\ttrain_txt = row_train[1][\"Word\"]\n",
    "#\ttrain_label = row_train[1][\"POS\"]\n",
    "#\tcompressed_train_txt = len(gzip.compress(train_txt.encode()))\n",
    "#\td[i] = compressed_train_txt\n",
    "\n",
    "#print(len(d))\n",
    "# main loop\n",
    "for i in tqdm(range(all_test_features.shape[0]), total=all_test_features.shape[0]):\n",
    "\t#test_txt = row_test[1][\"Word\"]\n",
    "\t#test_label = row_test[1][\"Pos\"] # to be predicted\n",
    "\t#compressed_test_txt = len(gzip.compress(test_txt.encode()))\n",
    "\ttest_vec = all_test_features[i].reshape(-1)\n",
    "\tall_distances_from_test = [] # distances of train_txt[i] from test_txt\n",
    "\t\n",
    "\t#for j in range(all_train_features.shape[0]):\n",
    "\t\t#train_txt = row_train[1][\"Word\"]\n",
    "\t\t#compressed_train_txt = len(gzip.compress(train_txt.encode()))\n",
    "\t\t#train_test_txt = \" \".join([test_txt, train_txt])\n",
    "\t\t#compressed_train_test = len(gzip.compress(train_test_txt.encode()))\n",
    "\t#\ttrain_vec = all_train_features[j].reshape(-1)\n",
    "\t\t#ncd = (\n",
    "\t\t#\t(compressed_train_test - min(compressed_train_txt, compressed_test_txt)) / max(compressed_train_txt, compressed_test_txt)\n",
    "\t\t#)\n",
    "\t#\tcosine_sim = 1 - np.dot(test_vec, train_vec) / (norm(test_vec) * norm(train_vec)) \n",
    "\t#\tall_distances_from_test.append(cosine_sim)\n",
    "\n",
    "\t# parallel iter over train\n",
    "\twith Parallel(n_jobs=num_workers, backend=\"loky\") as parallel:\n",
    "\t\tresults = parallel(\n",
    "\t\t\tdelayed(compute_concat_ncd)(all_train_features[range_start:range_end], test_vec) for range_start, range_end in ranges\n",
    "\t\t)\n",
    "\t\tfor p in results:\n",
    "\t\t\tall_distances_from_test.extend(p)\n",
    "\n",
    "\tsorted_idx = np.argsort(np.array(all_distances_from_test))\n",
    "\ttop_k_class = np.array(corpus_df[\"POS\"])[sorted_idx[:K]]\n",
    "\tpredicted_class = Counter(top_k_class).most_common()[0][0]\n",
    "\tpredicted_classes.append(predicted_class)\n",
    "\t#print(f\"Predicted classes: {predicted_classes}\")\n",
    "\n",
    "print(predicted_classes[:10])"
   ]
  },
  {
   "cell_type": "code",
   "execution_count": 34,
   "metadata": {},
   "outputs": [
    {
     "name": "stdout",
     "output_type": "stream",
     "text": [
      "(32045, 50000) (32045, 4) (32045,)\n"
     ]
    }
   ],
   "source": [
    "## test predictions\n",
    "predictions = lr_model.predict(test_vectors)\n",
    "print(test_vectors.shape, test_df.shape, predictions.shape)"
   ]
  },
  {
   "cell_type": "code",
   "execution_count": 30,
   "metadata": {},
   "outputs": [],
   "source": [
    "pred_classes = label_encoder.inverse_transform(predicted_classes) # ncd, k=5\n",
    "#pred_classes = label_encoder.inverse_transform(predictions)\n",
    "#test_df[\"Pos\"] = pred_classes\n",
    "test_df[\"Pos\"] = pred_classes\n",
    "test_df[[\"Id\", \"Pos\"]].to_csv(\"./subs/sub_cos_sim_afroxlm_mdeberta_k2.csv\", index=False)"
   ]
  },
  {
   "cell_type": "code",
   "execution_count": 31,
   "metadata": {},
   "outputs": [
    {
     "data": {
      "text/plain": [
       "Pos\n",
       "VERB     7618\n",
       "NOUN     7229\n",
       "PROPN    6200\n",
       "AUX      2458\n",
       "DET      2013\n",
       "ADJ      1827\n",
       "PRON     1375\n",
       "ADV       701\n",
       "SCONJ     640\n",
       "PART      566\n",
       "NUM       410\n",
       "PUNCT     346\n",
       "ADP       302\n",
       "X         169\n",
       "SYM       114\n",
       "CCONJ      61\n",
       "INTJ       16\n",
       "Name: count, dtype: int64"
      ]
     },
     "execution_count": 31,
     "metadata": {},
     "output_type": "execute_result"
    }
   ],
   "source": [
    "test_df[\"Pos\"].value_counts()"
   ]
  },
  {
   "cell_type": "code",
   "execution_count": 50,
   "metadata": {},
   "outputs": [
    {
     "data": {
      "text/html": [
       "<div>\n",
       "<style scoped>\n",
       "    .dataframe tbody tr th:only-of-type {\n",
       "        vertical-align: middle;\n",
       "    }\n",
       "\n",
       "    .dataframe tbody tr th {\n",
       "        vertical-align: top;\n",
       "    }\n",
       "\n",
       "    .dataframe thead th {\n",
       "        text-align: right;\n",
       "    }\n",
       "</style>\n",
       "<table border=\"1\" class=\"dataframe\">\n",
       "  <thead>\n",
       "    <tr style=\"text-align: right;\">\n",
       "      <th></th>\n",
       "      <th>Id</th>\n",
       "      <th>Word</th>\n",
       "      <th>Language</th>\n",
       "      <th>Pos</th>\n",
       "    </tr>\n",
       "  </thead>\n",
       "  <tbody>\n",
       "    <tr>\n",
       "      <th>0</th>\n",
       "      <td>Id00qog2f11n_0</td>\n",
       "      <td>ne</td>\n",
       "      <td>luo</td>\n",
       "      <td>PROPN</td>\n",
       "    </tr>\n",
       "    <tr>\n",
       "      <th>1</th>\n",
       "      <td>Id00qog2f11n_1</td>\n",
       "      <td>otim</td>\n",
       "      <td>luo</td>\n",
       "      <td>NOUN</td>\n",
       "    </tr>\n",
       "    <tr>\n",
       "      <th>2</th>\n",
       "      <td>Id00qog2f11n_2</td>\n",
       "      <td>penj</td>\n",
       "      <td>luo</td>\n",
       "      <td>PUNCT</td>\n",
       "    </tr>\n",
       "    <tr>\n",
       "      <th>3</th>\n",
       "      <td>Id00qog2f11n_3</td>\n",
       "      <td>e</td>\n",
       "      <td>luo</td>\n",
       "      <td>NOUN</td>\n",
       "    </tr>\n",
       "    <tr>\n",
       "      <th>4</th>\n",
       "      <td>Id00qog2f11n_4</td>\n",
       "      <td>kind</td>\n",
       "      <td>luo</td>\n",
       "      <td>PUNCT</td>\n",
       "    </tr>\n",
       "  </tbody>\n",
       "</table>\n",
       "</div>"
      ],
      "text/plain": [
       "               Id  Word Language    Pos\n",
       "0  Id00qog2f11n_0    ne      luo  PROPN\n",
       "1  Id00qog2f11n_1  otim      luo   NOUN\n",
       "2  Id00qog2f11n_2  penj      luo  PUNCT\n",
       "3  Id00qog2f11n_3     e      luo   NOUN\n",
       "4  Id00qog2f11n_4  kind      luo  PUNCT"
      ]
     },
     "execution_count": 50,
     "metadata": {},
     "output_type": "execute_result"
    }
   ],
   "source": [
    "test_df.head()"
   ]
  },
  {
   "cell_type": "code",
   "execution_count": null,
   "metadata": {},
   "outputs": [],
   "source": []
  }
 ],
 "metadata": {
  "kernelspec": {
   "display_name": "env",
   "language": "python",
   "name": "python3"
  },
  "language_info": {
   "codemirror_mode": {
    "name": "ipython",
    "version": 3
   },
   "file_extension": ".py",
   "mimetype": "text/x-python",
   "name": "python",
   "nbconvert_exporter": "python",
   "pygments_lexer": "ipython3",
   "version": "3.11.4"
  },
  "orig_nbformat": 4
 },
 "nbformat": 4,
 "nbformat_minor": 2
}
