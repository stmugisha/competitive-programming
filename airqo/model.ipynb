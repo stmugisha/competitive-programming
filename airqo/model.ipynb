{
 "cells": [
  {
   "cell_type": "markdown",
   "metadata": {},
   "source": [
    "# AirQo Ugandan Air Quality Forecast Challenge\n",
    "\n",
    "Until recently there has been a lack of data on air quality across sub-Saharan Africa. Reference grade monitors are extremely expensive and without access to data it is very difficult to raise awareness of the issues, or for government, business and individuals to know which actions to take to improve air quality and protect community health.\n",
    "\n",
    "[AirQo](https://www.airqo.net/) has built a low-cost network of sensors and collected data across 65 locations in Uganda with some sites monitoring for over three years. The increase in availability of air quality data allows us to analyse historical and up to the minute results to gain insights into trends, hotspots, causes and consequences of poor air, potential policy solutions and so much more.\n",
    "\n",
    "The ability to accurately predict what air quality will be in the coming days is also essential for empowering everyone from governments to families to make informed decisions to protect health and guide action, just as we do with weather."
   ]
  },
  {
   "cell_type": "code",
   "execution_count": 1,
   "metadata": {},
   "outputs": [],
   "source": [
    "#!pip install catboost"
   ]
  },
  {
   "cell_type": "code",
   "execution_count": 20,
   "metadata": {
    "colab": {},
    "colab_type": "code",
    "id": "lygrd_4THhsP"
   },
   "outputs": [],
   "source": [
    "import pandas as pd \n",
    "import numpy as np \n",
    "from tqdm import tqdm\n",
    "\n",
    "from matplotlib import pyplot as plt\n",
    "import seaborn as sns\n",
    "from sklearn.model_selection import GroupKFold, KFold, TimeSeriesSplit\n",
    "from sklearn.preprocessing import LabelEncoder, PolynomialFeatures, MinMaxScaler\n",
    "from sklearn.pipeline import make_pipeline\n",
    "from sklearn.metrics import mean_squared_error\n",
    "from sklearn.svm import SVR\n",
    "from sklearn.ensemble import RandomForestRegressor\n",
    "import lightgbm as lgbm\n",
    "import xgboost as xgb\n",
    "import catboost\n",
    "import os\n",
    "import gc\n",
    "\n",
    "import warnings\n",
    "warnings.filterwarnings('ignore')"
   ]
  },
  {
   "cell_type": "markdown",
   "metadata": {
    "colab": {},
    "colab_type": "code",
    "id": "laCuoZYCHhsW"
   },
   "source": [
    "## Data Loading and EDA"
   ]
  },
  {
   "cell_type": "code",
   "execution_count": 2,
   "metadata": {
    "colab": {},
    "colab_type": "code",
    "id": "tRthNH90Hhsa"
   },
   "outputs": [],
   "source": [
    "train = pd.read_csv(\"./raw/Train.csv\")\n",
    "test = pd.read_csv(\"./raw/Test.csv\")\n",
    "meta = pd.read_csv(\"./raw/airqo_metadata.csv\")"
   ]
  },
  {
   "cell_type": "code",
   "execution_count": 4,
   "metadata": {
    "colab": {},
    "colab_type": "code",
    "id": "j_1ClVwsHhsf",
    "outputId": "b4e24efd-edc5-4b18-c41f-edce7df93648"
   },
   "outputs": [
    {
     "data": {
      "text/html": [
       "<div>\n",
       "<style scoped>\n",
       "    .dataframe tbody tr th:only-of-type {\n",
       "        vertical-align: middle;\n",
       "    }\n",
       "\n",
       "    .dataframe tbody tr th {\n",
       "        vertical-align: top;\n",
       "    }\n",
       "\n",
       "    .dataframe thead th {\n",
       "        text-align: right;\n",
       "    }\n",
       "</style>\n",
       "<table border=\"1\" class=\"dataframe\">\n",
       "  <thead>\n",
       "    <tr style=\"text-align: right;\">\n",
       "      <th></th>\n",
       "      <th>ID</th>\n",
       "      <th>location</th>\n",
       "      <th>temp</th>\n",
       "      <th>precip</th>\n",
       "      <th>rel_humidity</th>\n",
       "      <th>wind_dir</th>\n",
       "      <th>wind_spd</th>\n",
       "      <th>atmos_press</th>\n",
       "      <th>target</th>\n",
       "    </tr>\n",
       "  </thead>\n",
       "  <tbody>\n",
       "    <tr>\n",
       "      <th>0</th>\n",
       "      <td>ID_train_0</td>\n",
       "      <td>C</td>\n",
       "      <td>nan,nan,nan,nan,nan,nan,nan,nan,nan,nan,nan,na...</td>\n",
       "      <td>nan,nan,nan,nan,nan,nan,nan,nan,nan,nan,nan,na...</td>\n",
       "      <td>nan,nan,nan,nan,nan,nan,nan,nan,nan,nan,nan,na...</td>\n",
       "      <td>nan,nan,nan,nan,nan,nan,nan,nan,nan,nan,nan,na...</td>\n",
       "      <td>nan,nan,nan,nan,nan,nan,nan,nan,nan,nan,nan,na...</td>\n",
       "      <td>nan,nan,nan,nan,nan,nan,nan,nan,nan,nan,nan,na...</td>\n",
       "      <td>45.126304</td>\n",
       "    </tr>\n",
       "    <tr>\n",
       "      <th>1</th>\n",
       "      <td>ID_train_1</td>\n",
       "      <td>D</td>\n",
       "      <td>22.53333333,21.71666667,20.83333333,20.9833333...</td>\n",
       "      <td>0.102,0.0,0.0,0.0,0.0,0.0,0.0,0.034,0.017,0.01...</td>\n",
       "      <td>0.744583333,0.808083333,0.911166667,0.91633333...</td>\n",
       "      <td>281.6643101,89.15629262,81.96853891,291.018632...</td>\n",
       "      <td>2.3775,1.126666667,0.700833333,0.3416666670000...</td>\n",
       "      <td>90.32,90.3775,90.44083333,90.4725,90.45416667,...</td>\n",
       "      <td>79.131702</td>\n",
       "    </tr>\n",
       "    <tr>\n",
       "      <th>2</th>\n",
       "      <td>ID_train_10</td>\n",
       "      <td>A</td>\n",
       "      <td>28.975,27.95,29.6,26.425,22.09166667,21.775,22...</td>\n",
       "      <td>0.0,0.0,0.0,0.102,0.136,0.0,0.0,2.16,1.276,0.0...</td>\n",
       "      <td>0.573333333,0.597166667,0.5668333329999999,0.6...</td>\n",
       "      <td>nan,nan,nan,nan,nan,nan,nan,nan,nan,nan,nan,na...</td>\n",
       "      <td>nan,nan,nan,nan,nan,nan,nan,nan,nan,nan,nan,na...</td>\n",
       "      <td>88.55166667,88.46416667,88.31916667,88.24,88.2...</td>\n",
       "      <td>32.661304</td>\n",
       "    </tr>\n",
       "    <tr>\n",
       "      <th>3</th>\n",
       "      <td>ID_train_100</td>\n",
       "      <td>A</td>\n",
       "      <td>22.96666667,24.26666667,25.275,25.625,25.86666...</td>\n",
       "      <td>0.0,0.0,0.0,0.0,0.0,0.0,0.0,0.0,7.77,3.012,1.0...</td>\n",
       "      <td>0.8430833329999999,0.79025,0.7375,0.728,0.7049...</td>\n",
       "      <td>300.0850574,293.6769595,294.5174647,301.921416...</td>\n",
       "      <td>1.446666667,1.1925,1.324166667,1.5441666669999...</td>\n",
       "      <td>88.615,88.53083333,88.4,88.27166667,88.2075,88...</td>\n",
       "      <td>53.850238</td>\n",
       "    </tr>\n",
       "    <tr>\n",
       "      <th>4</th>\n",
       "      <td>ID_train_1000</td>\n",
       "      <td>A</td>\n",
       "      <td>21.875,21.575,21.525,21.43333333,20.50833333,1...</td>\n",
       "      <td>0.0,0.0,0.0,0.0,0.0,0.0,0.0,0.0,0.0,0.0,0.0,0....</td>\n",
       "      <td>0.8564166670000001,0.874916667,0.879833333,0.8...</td>\n",
       "      <td>21.83997432,17.05405341,89.26406044,123.585424...</td>\n",
       "      <td>0.1975,0.244166667,0.411666667,0.56,0.5775,0.4...</td>\n",
       "      <td>88.55666667,88.64083333,88.65833333,88.6475,88...</td>\n",
       "      <td>177.418750</td>\n",
       "    </tr>\n",
       "  </tbody>\n",
       "</table>\n",
       "</div>"
      ],
      "text/plain": [
       "              ID location                                               temp  \\\n",
       "0     ID_train_0        C  nan,nan,nan,nan,nan,nan,nan,nan,nan,nan,nan,na...   \n",
       "1     ID_train_1        D  22.53333333,21.71666667,20.83333333,20.9833333...   \n",
       "2    ID_train_10        A  28.975,27.95,29.6,26.425,22.09166667,21.775,22...   \n",
       "3   ID_train_100        A  22.96666667,24.26666667,25.275,25.625,25.86666...   \n",
       "4  ID_train_1000        A  21.875,21.575,21.525,21.43333333,20.50833333,1...   \n",
       "\n",
       "                                              precip  \\\n",
       "0  nan,nan,nan,nan,nan,nan,nan,nan,nan,nan,nan,na...   \n",
       "1  0.102,0.0,0.0,0.0,0.0,0.0,0.0,0.034,0.017,0.01...   \n",
       "2  0.0,0.0,0.0,0.102,0.136,0.0,0.0,2.16,1.276,0.0...   \n",
       "3  0.0,0.0,0.0,0.0,0.0,0.0,0.0,0.0,7.77,3.012,1.0...   \n",
       "4  0.0,0.0,0.0,0.0,0.0,0.0,0.0,0.0,0.0,0.0,0.0,0....   \n",
       "\n",
       "                                        rel_humidity  \\\n",
       "0  nan,nan,nan,nan,nan,nan,nan,nan,nan,nan,nan,na...   \n",
       "1  0.744583333,0.808083333,0.911166667,0.91633333...   \n",
       "2  0.573333333,0.597166667,0.5668333329999999,0.6...   \n",
       "3  0.8430833329999999,0.79025,0.7375,0.728,0.7049...   \n",
       "4  0.8564166670000001,0.874916667,0.879833333,0.8...   \n",
       "\n",
       "                                            wind_dir  \\\n",
       "0  nan,nan,nan,nan,nan,nan,nan,nan,nan,nan,nan,na...   \n",
       "1  281.6643101,89.15629262,81.96853891,291.018632...   \n",
       "2  nan,nan,nan,nan,nan,nan,nan,nan,nan,nan,nan,na...   \n",
       "3  300.0850574,293.6769595,294.5174647,301.921416...   \n",
       "4  21.83997432,17.05405341,89.26406044,123.585424...   \n",
       "\n",
       "                                            wind_spd  \\\n",
       "0  nan,nan,nan,nan,nan,nan,nan,nan,nan,nan,nan,na...   \n",
       "1  2.3775,1.126666667,0.700833333,0.3416666670000...   \n",
       "2  nan,nan,nan,nan,nan,nan,nan,nan,nan,nan,nan,na...   \n",
       "3  1.446666667,1.1925,1.324166667,1.5441666669999...   \n",
       "4  0.1975,0.244166667,0.411666667,0.56,0.5775,0.4...   \n",
       "\n",
       "                                         atmos_press      target  \n",
       "0  nan,nan,nan,nan,nan,nan,nan,nan,nan,nan,nan,na...   45.126304  \n",
       "1  90.32,90.3775,90.44083333,90.4725,90.45416667,...   79.131702  \n",
       "2  88.55166667,88.46416667,88.31916667,88.24,88.2...   32.661304  \n",
       "3  88.615,88.53083333,88.4,88.27166667,88.2075,88...   53.850238  \n",
       "4  88.55666667,88.64083333,88.65833333,88.6475,88...  177.418750  "
      ]
     },
     "execution_count": 4,
     "metadata": {},
     "output_type": "execute_result"
    }
   ],
   "source": [
    "#print(len(train.iloc[1][2]))\n",
    "train.head()"
   ]
  },
  {
   "cell_type": "code",
   "execution_count": 56,
   "metadata": {},
   "outputs": [
    {
     "data": {
      "text/html": [
       "<div>\n",
       "<style scoped>\n",
       "    .dataframe tbody tr th:only-of-type {\n",
       "        vertical-align: middle;\n",
       "    }\n",
       "\n",
       "    .dataframe tbody tr th {\n",
       "        vertical-align: top;\n",
       "    }\n",
       "\n",
       "    .dataframe thead th {\n",
       "        text-align: right;\n",
       "    }\n",
       "</style>\n",
       "<table border=\"1\" class=\"dataframe\">\n",
       "  <thead>\n",
       "    <tr style=\"text-align: right;\">\n",
       "      <th></th>\n",
       "      <th>location</th>\n",
       "      <th>loc_altitude</th>\n",
       "      <th>km2</th>\n",
       "      <th>aspect</th>\n",
       "    </tr>\n",
       "  </thead>\n",
       "  <tbody>\n",
       "    <tr>\n",
       "      <th>0</th>\n",
       "      <td>A</td>\n",
       "      <td>1122.4</td>\n",
       "      <td>1.9</td>\n",
       "      <td>194.0</td>\n",
       "    </tr>\n",
       "    <tr>\n",
       "      <th>1</th>\n",
       "      <td>B</td>\n",
       "      <td>1155.4</td>\n",
       "      <td>5.4</td>\n",
       "      <td>219.8</td>\n",
       "    </tr>\n",
       "    <tr>\n",
       "      <th>2</th>\n",
       "      <td>C</td>\n",
       "      <td>1178.3</td>\n",
       "      <td>8.5</td>\n",
       "      <td>168.7</td>\n",
       "    </tr>\n",
       "    <tr>\n",
       "      <th>3</th>\n",
       "      <td>D</td>\n",
       "      <td>980.8</td>\n",
       "      <td>0.8</td>\n",
       "      <td>90.0</td>\n",
       "    </tr>\n",
       "    <tr>\n",
       "      <th>4</th>\n",
       "      <td>E</td>\n",
       "      <td>1186.5</td>\n",
       "      <td>1.6</td>\n",
       "      <td>121.0</td>\n",
       "    </tr>\n",
       "  </tbody>\n",
       "</table>\n",
       "</div>"
      ],
      "text/plain": [
       "  location  loc_altitude  km2  aspect\n",
       "0        A        1122.4  1.9   194.0\n",
       "1        B        1155.4  5.4   219.8\n",
       "2        C        1178.3  8.5   168.7\n",
       "3        D         980.8  0.8    90.0\n",
       "4        E        1186.5  1.6   121.0"
      ]
     },
     "execution_count": 56,
     "metadata": {},
     "output_type": "execute_result"
    }
   ],
   "source": [
    "#print(max(train.target))\n",
    "sliced_meta = meta.iloc[:,1:5] \n",
    "sliced_meta.head()"
   ]
  },
  {
   "cell_type": "code",
   "execution_count": 3,
   "metadata": {
    "colab": {},
    "colab_type": "code",
    "id": "Cz6jfBntHhsl",
    "outputId": "62c95e17-53ba-4628-de6f-d441036b23de"
   },
   "outputs": [
    {
     "data": {
      "text/html": [
       "<div>\n",
       "<style scoped>\n",
       "    .dataframe tbody tr th:only-of-type {\n",
       "        vertical-align: middle;\n",
       "    }\n",
       "\n",
       "    .dataframe tbody tr th {\n",
       "        vertical-align: top;\n",
       "    }\n",
       "\n",
       "    .dataframe thead th {\n",
       "        text-align: right;\n",
       "    }\n",
       "</style>\n",
       "<table border=\"1\" class=\"dataframe\">\n",
       "  <thead>\n",
       "    <tr style=\"text-align: right;\">\n",
       "      <th></th>\n",
       "      <th>ID</th>\n",
       "      <th>location</th>\n",
       "      <th>temp</th>\n",
       "      <th>precip</th>\n",
       "      <th>rel_humidity</th>\n",
       "      <th>wind_dir</th>\n",
       "      <th>wind_spd</th>\n",
       "      <th>atmos_press</th>\n",
       "    </tr>\n",
       "  </thead>\n",
       "  <tbody>\n",
       "    <tr>\n",
       "      <th>0</th>\n",
       "      <td>ID_test_0</td>\n",
       "      <td>C</td>\n",
       "      <td>23.96666667,22.88333333,22.28333333,21.4833333...</td>\n",
       "      <td>0.0,0.0,0.0,0.0,0.0,0.0,0.0,0.0,0.0,0.0,0.0,0....</td>\n",
       "      <td>0.6898333329999999,0.722333333,0.7755833329999...</td>\n",
       "      <td>290.1352379,328.47011289999995,323.5730796,282...</td>\n",
       "      <td>0.6333333329999999,0.725,0.955,0.8725,0.6925,0...</td>\n",
       "      <td>87.64333333,87.67,87.70583333,87.75083333,87.7...</td>\n",
       "    </tr>\n",
       "    <tr>\n",
       "      <th>1</th>\n",
       "      <td>ID_test_1</td>\n",
       "      <td>C</td>\n",
       "      <td>18.99166667,19.70833333,20.95833333,22.7833333...</td>\n",
       "      <td>0.0,0.0,0.0,0.0,0.0,0.0,0.0,0.0,0.0,0.0,0.0,0....</td>\n",
       "      <td>0.99975,0.99725,0.956333333,0.851583333,0.7775...</td>\n",
       "      <td>295.2350543,307.6569135,313.7360236,311.518385...</td>\n",
       "      <td>0.640833333,1.244166667,1.284166667,1.2875,1.3...</td>\n",
       "      <td>87.8925,87.95666667,87.9925,87.9925,87.9808333...</td>\n",
       "    </tr>\n",
       "    <tr>\n",
       "      <th>2</th>\n",
       "      <td>ID_test_10</td>\n",
       "      <td>D</td>\n",
       "      <td>25.11666667,25.08333333,24.40833333,23.575,22....</td>\n",
       "      <td>0.0,0.0,0.0,0.0,0.0,0.0,0.0,0.0,0.0,0.0,0.0,0....</td>\n",
       "      <td>0.760166667,0.733583333,0.78475,0.825833333,0....</td>\n",
       "      <td>77.06161145,95.48124997,61.44498258,89.4688360...</td>\n",
       "      <td>2.0133333330000003,1.3025,0.783333333,0.530833...</td>\n",
       "      <td>90.34,90.2975,90.305,90.35583333,90.4425,90.49...</td>\n",
       "    </tr>\n",
       "    <tr>\n",
       "      <th>3</th>\n",
       "      <td>ID_test_100</td>\n",
       "      <td>C</td>\n",
       "      <td>18.71666667,20.60833333,22.28333333,23.9833333...</td>\n",
       "      <td>0.0,0.0,0.0,0.0,0.0,0.0,0.0,0.0,3.604,0.0,0.0,...</td>\n",
       "      <td>0.951416667,0.92575,0.8603333329999999,0.77883...</td>\n",
       "      <td>310.7509058,316.186793,324.8167326,327.2174992...</td>\n",
       "      <td>0.745,1.169166667,1.316666667,1.385,1.40083333...</td>\n",
       "      <td>87.98833333,88.06333333,88.07833333,88.0366666...</td>\n",
       "    </tr>\n",
       "    <tr>\n",
       "      <th>4</th>\n",
       "      <td>ID_test_1000</td>\n",
       "      <td>D</td>\n",
       "      <td>17.63333333,18.05833333,19.625,21.28333333,23....</td>\n",
       "      <td>0.0,0.0,0.0,0.0,0.0,0.0,0.0,0.0,0.0,0.0,0.0,0....</td>\n",
       "      <td>0.9,0.898333333,0.8725,0.831666667,0.820833332...</td>\n",
       "      <td>334.6054069,329.6848561000001,322.7668036,312....</td>\n",
       "      <td>0.620833333,0.5,0.456666667,0.558333333,1.0158...</td>\n",
       "      <td>90.515,90.5575,90.62333333,90.6825,90.67916667...</td>\n",
       "    </tr>\n",
       "  </tbody>\n",
       "</table>\n",
       "</div>"
      ],
      "text/plain": [
       "             ID location                                               temp  \\\n",
       "0     ID_test_0        C  23.96666667,22.88333333,22.28333333,21.4833333...   \n",
       "1     ID_test_1        C  18.99166667,19.70833333,20.95833333,22.7833333...   \n",
       "2    ID_test_10        D  25.11666667,25.08333333,24.40833333,23.575,22....   \n",
       "3   ID_test_100        C  18.71666667,20.60833333,22.28333333,23.9833333...   \n",
       "4  ID_test_1000        D  17.63333333,18.05833333,19.625,21.28333333,23....   \n",
       "\n",
       "                                              precip  \\\n",
       "0  0.0,0.0,0.0,0.0,0.0,0.0,0.0,0.0,0.0,0.0,0.0,0....   \n",
       "1  0.0,0.0,0.0,0.0,0.0,0.0,0.0,0.0,0.0,0.0,0.0,0....   \n",
       "2  0.0,0.0,0.0,0.0,0.0,0.0,0.0,0.0,0.0,0.0,0.0,0....   \n",
       "3  0.0,0.0,0.0,0.0,0.0,0.0,0.0,0.0,3.604,0.0,0.0,...   \n",
       "4  0.0,0.0,0.0,0.0,0.0,0.0,0.0,0.0,0.0,0.0,0.0,0....   \n",
       "\n",
       "                                        rel_humidity  \\\n",
       "0  0.6898333329999999,0.722333333,0.7755833329999...   \n",
       "1  0.99975,0.99725,0.956333333,0.851583333,0.7775...   \n",
       "2  0.760166667,0.733583333,0.78475,0.825833333,0....   \n",
       "3  0.951416667,0.92575,0.8603333329999999,0.77883...   \n",
       "4  0.9,0.898333333,0.8725,0.831666667,0.820833332...   \n",
       "\n",
       "                                            wind_dir  \\\n",
       "0  290.1352379,328.47011289999995,323.5730796,282...   \n",
       "1  295.2350543,307.6569135,313.7360236,311.518385...   \n",
       "2  77.06161145,95.48124997,61.44498258,89.4688360...   \n",
       "3  310.7509058,316.186793,324.8167326,327.2174992...   \n",
       "4  334.6054069,329.6848561000001,322.7668036,312....   \n",
       "\n",
       "                                            wind_spd  \\\n",
       "0  0.6333333329999999,0.725,0.955,0.8725,0.6925,0...   \n",
       "1  0.640833333,1.244166667,1.284166667,1.2875,1.3...   \n",
       "2  2.0133333330000003,1.3025,0.783333333,0.530833...   \n",
       "3  0.745,1.169166667,1.316666667,1.385,1.40083333...   \n",
       "4  0.620833333,0.5,0.456666667,0.558333333,1.0158...   \n",
       "\n",
       "                                         atmos_press  \n",
       "0  87.64333333,87.67,87.70583333,87.75083333,87.7...  \n",
       "1  87.8925,87.95666667,87.9925,87.9925,87.9808333...  \n",
       "2  90.34,90.2975,90.305,90.35583333,90.4425,90.49...  \n",
       "3  87.98833333,88.06333333,88.07833333,88.0366666...  \n",
       "4  90.515,90.5575,90.62333333,90.6825,90.67916667...  "
      ]
     },
     "execution_count": 3,
     "metadata": {},
     "output_type": "execute_result"
    }
   ],
   "source": [
    "test.head()"
   ]
  },
  {
   "cell_type": "code",
   "execution_count": 58,
   "metadata": {
    "colab": {},
    "colab_type": "code",
    "id": "7lskkR2rHhss"
   },
   "outputs": [],
   "source": [
    "# covert features  fron string to List of values \n",
    "def replace_nan(x):\n",
    "    if x==\" \":\n",
    "        return np.nan\n",
    "    else :\n",
    "        return float(x)\n",
    "features=[\"temp\",\"precip\",\"rel_humidity\",\"wind_dir\",\"wind_spd\",\"atmos_press\"]\n",
    "for feature in features : \n",
    "    train[feature]=train[feature].apply(lambda x: [ replace_nan(X) for X in x.replace(\"nan\",\" \").split(\",\")])\n",
    "    test[feature]=test[feature].apply(lambda x: [ replace_nan(X)  for X in x.replace(\"nan\",\" \").split(\",\")])    "
   ]
  },
  {
   "cell_type": "markdown",
   "metadata": {
    "colab_type": "text",
    "id": "mApRDmFGHhsz"
   },
   "source": [
    "### Features engineering part"
   ]
  },
  {
   "cell_type": "code",
   "execution_count": 59,
   "metadata": {
    "colab": {},
    "colab_type": "code",
    "id": "sg8-zujFHhs1"
   },
   "outputs": [],
   "source": [
    "def aggregate_features(x,col_name):\n",
    "    #x[\"max_\"+col_name]=x[col_name].apply(np.max)\n",
    "    #x[\"min_\"+col_name]=x[col_name].apply(np.min)\n",
    "    x[\"mean_\"+col_name]=x[col_name].apply(np.mean)\n",
    "    #x[\"std_\"+col_name]=x[col_name].apply(np.std)\n",
    "    #x[\"var_\"+col_name]=x[col_name].apply(np.var)\n",
    "    x[\"median_\"+col_name]=x[col_name].apply(np.median)\n",
    "    #x[\"ptp_\"+col_name]=x[col_name].apply(np.ptp)\n",
    "    return x  \n",
    "def remove_nan_values(x):\n",
    "    return [e for e in x if not math.isnan(e)]\n"
   ]
  },
  {
   "cell_type": "code",
   "execution_count": 60,
   "metadata": {
    "colab": {},
    "colab_type": "code",
    "id": "jSHXJxduHhs6",
    "outputId": "a78e1110-ea42-455e-ea70-4a087668e77d"
   },
   "outputs": [
    {
     "data": {
      "text/plain": [
       "['ID',\n",
       " 'location',\n",
       " 'temp',\n",
       " 'precip',\n",
       " 'rel_humidity',\n",
       " 'wind_dir',\n",
       " 'wind_spd',\n",
       " 'atmos_press',\n",
       " 'target',\n",
       " 'temp0',\n",
       " 'precip0',\n",
       " 'rel_humidity0',\n",
       " 'wind_dir0',\n",
       " 'windspeed0',\n",
       " 'atm_pressure0',\n",
       " 'temp1',\n",
       " 'precip1',\n",
       " 'rel_humidity1',\n",
       " 'wind_dir1',\n",
       " 'windspeed1',\n",
       " 'atm_pressure1',\n",
       " 'temp2',\n",
       " 'precip2',\n",
       " 'rel_humidity2',\n",
       " 'wind_dir2',\n",
       " 'windspeed2',\n",
       " 'atm_pressure2',\n",
       " 'temp3',\n",
       " 'precip3',\n",
       " 'rel_humidity3',\n",
       " 'wind_dir3',\n",
       " 'windspeed3',\n",
       " 'atm_pressure3',\n",
       " 'temp4',\n",
       " 'precip4',\n",
       " 'rel_humidity4',\n",
       " 'wind_dir4',\n",
       " 'windspeed4',\n",
       " 'atm_pressure4',\n",
       " 'temp5',\n",
       " 'precip5',\n",
       " 'rel_humidity5',\n",
       " 'wind_dir5',\n",
       " 'windspeed5',\n",
       " 'atm_pressure5',\n",
       " 'temp6',\n",
       " 'precip6',\n",
       " 'rel_humidity6',\n",
       " 'wind_dir6',\n",
       " 'windspeed6',\n",
       " 'atm_pressure6',\n",
       " 'temp7',\n",
       " 'precip7',\n",
       " 'rel_humidity7',\n",
       " 'wind_dir7',\n",
       " 'windspeed7',\n",
       " 'atm_pressure7',\n",
       " 'temp8',\n",
       " 'precip8',\n",
       " 'rel_humidity8',\n",
       " 'wind_dir8',\n",
       " 'windspeed8',\n",
       " 'atm_pressure8',\n",
       " 'temp9',\n",
       " 'precip9',\n",
       " 'rel_humidity9',\n",
       " 'wind_dir9',\n",
       " 'windspeed9',\n",
       " 'atm_pressure9',\n",
       " 'temp10',\n",
       " 'precip10',\n",
       " 'rel_humidity10',\n",
       " 'wind_dir10',\n",
       " 'windspeed10',\n",
       " 'atm_pressure10',\n",
       " 'temp11',\n",
       " 'precip11',\n",
       " 'rel_humidity11',\n",
       " 'wind_dir11',\n",
       " 'windspeed11',\n",
       " 'atm_pressure11',\n",
       " 'temp12',\n",
       " 'precip12',\n",
       " 'rel_humidity12',\n",
       " 'wind_dir12',\n",
       " 'windspeed12',\n",
       " 'atm_pressure12',\n",
       " 'temp13',\n",
       " 'precip13',\n",
       " 'rel_humidity13',\n",
       " 'wind_dir13',\n",
       " 'windspeed13',\n",
       " 'atm_pressure13',\n",
       " 'temp14',\n",
       " 'precip14',\n",
       " 'rel_humidity14',\n",
       " 'wind_dir14',\n",
       " 'windspeed14',\n",
       " 'atm_pressure14',\n",
       " 'temp15',\n",
       " 'precip15',\n",
       " 'rel_humidity15',\n",
       " 'wind_dir15',\n",
       " 'windspeed15',\n",
       " 'atm_pressure15',\n",
       " 'temp16',\n",
       " 'precip16',\n",
       " 'rel_humidity16',\n",
       " 'wind_dir16',\n",
       " 'windspeed16',\n",
       " 'atm_pressure16',\n",
       " 'temp17',\n",
       " 'precip17',\n",
       " 'rel_humidity17',\n",
       " 'wind_dir17',\n",
       " 'windspeed17',\n",
       " 'atm_pressure17',\n",
       " 'temp18',\n",
       " 'precip18',\n",
       " 'rel_humidity18',\n",
       " 'wind_dir18',\n",
       " 'windspeed18',\n",
       " 'atm_pressure18',\n",
       " 'temp19',\n",
       " 'precip19',\n",
       " 'rel_humidity19',\n",
       " 'wind_dir19',\n",
       " 'windspeed19',\n",
       " 'atm_pressure19',\n",
       " 'temp20',\n",
       " 'precip20',\n",
       " 'rel_humidity20',\n",
       " 'wind_dir20',\n",
       " 'windspeed20',\n",
       " 'atm_pressure20',\n",
       " 'temp21',\n",
       " 'precip21',\n",
       " 'rel_humidity21',\n",
       " 'wind_dir21',\n",
       " 'windspeed21',\n",
       " 'atm_pressure21',\n",
       " 'temp22',\n",
       " 'precip22',\n",
       " 'rel_humidity22',\n",
       " 'wind_dir22',\n",
       " 'windspeed22',\n",
       " 'atm_pressure22',\n",
       " 'temp23',\n",
       " 'precip23',\n",
       " 'rel_humidity23',\n",
       " 'wind_dir23',\n",
       " 'windspeed23',\n",
       " 'atm_pressure23',\n",
       " 'temp24',\n",
       " 'precip24',\n",
       " 'rel_humidity24',\n",
       " 'wind_dir24',\n",
       " 'windspeed24',\n",
       " 'atm_pressure24',\n",
       " 'temp25',\n",
       " 'precip25',\n",
       " 'rel_humidity25',\n",
       " 'wind_dir25',\n",
       " 'windspeed25',\n",
       " 'atm_pressure25',\n",
       " 'temp26',\n",
       " 'precip26',\n",
       " 'rel_humidity26',\n",
       " 'wind_dir26',\n",
       " 'windspeed26',\n",
       " 'atm_pressure26',\n",
       " 'temp27',\n",
       " 'precip27',\n",
       " 'rel_humidity27',\n",
       " 'wind_dir27',\n",
       " 'windspeed27',\n",
       " 'atm_pressure27',\n",
       " 'temp28',\n",
       " 'precip28',\n",
       " 'rel_humidity28',\n",
       " 'wind_dir28',\n",
       " 'windspeed28',\n",
       " 'atm_pressure28',\n",
       " 'temp29',\n",
       " 'precip29',\n",
       " 'rel_humidity29',\n",
       " 'wind_dir29',\n",
       " 'windspeed29',\n",
       " 'atm_pressure29',\n",
       " 'temp30',\n",
       " 'precip30',\n",
       " 'rel_humidity30',\n",
       " 'wind_dir30',\n",
       " 'windspeed30',\n",
       " 'atm_pressure30',\n",
       " 'temp31',\n",
       " 'precip31',\n",
       " 'rel_humidity31',\n",
       " 'wind_dir31',\n",
       " 'windspeed31',\n",
       " 'atm_pressure31',\n",
       " 'temp32',\n",
       " 'precip32',\n",
       " 'rel_humidity32',\n",
       " 'wind_dir32',\n",
       " 'windspeed32',\n",
       " 'atm_pressure32',\n",
       " 'temp33',\n",
       " 'precip33',\n",
       " 'rel_humidity33',\n",
       " 'wind_dir33',\n",
       " 'windspeed33',\n",
       " 'atm_pressure33',\n",
       " 'temp34',\n",
       " 'precip34',\n",
       " 'rel_humidity34',\n",
       " 'wind_dir34',\n",
       " 'windspeed34',\n",
       " 'atm_pressure34',\n",
       " 'temp35',\n",
       " 'precip35',\n",
       " 'rel_humidity35',\n",
       " 'wind_dir35',\n",
       " 'windspeed35',\n",
       " 'atm_pressure35',\n",
       " 'temp36',\n",
       " 'precip36',\n",
       " 'rel_humidity36',\n",
       " 'wind_dir36',\n",
       " 'windspeed36',\n",
       " 'atm_pressure36',\n",
       " 'temp37',\n",
       " 'precip37',\n",
       " 'rel_humidity37',\n",
       " 'wind_dir37',\n",
       " 'windspeed37',\n",
       " 'atm_pressure37',\n",
       " 'temp38',\n",
       " 'precip38',\n",
       " 'rel_humidity38',\n",
       " 'wind_dir38',\n",
       " 'windspeed38',\n",
       " 'atm_pressure38',\n",
       " 'temp39',\n",
       " 'precip39',\n",
       " 'rel_humidity39',\n",
       " 'wind_dir39',\n",
       " 'windspeed39',\n",
       " 'atm_pressure39',\n",
       " 'temp40',\n",
       " 'precip40',\n",
       " 'rel_humidity40',\n",
       " 'wind_dir40',\n",
       " 'windspeed40',\n",
       " 'atm_pressure40',\n",
       " 'temp41',\n",
       " 'precip41',\n",
       " 'rel_humidity41',\n",
       " 'wind_dir41',\n",
       " 'windspeed41',\n",
       " 'atm_pressure41',\n",
       " 'temp42',\n",
       " 'precip42',\n",
       " 'rel_humidity42',\n",
       " 'wind_dir42',\n",
       " 'windspeed42',\n",
       " 'atm_pressure42',\n",
       " 'temp43',\n",
       " 'precip43',\n",
       " 'rel_humidity43',\n",
       " 'wind_dir43',\n",
       " 'windspeed43',\n",
       " 'atm_pressure43',\n",
       " 'temp44',\n",
       " 'precip44',\n",
       " 'rel_humidity44',\n",
       " 'wind_dir44',\n",
       " 'windspeed44',\n",
       " 'atm_pressure44',\n",
       " 'temp45',\n",
       " 'precip45',\n",
       " 'rel_humidity45',\n",
       " 'wind_dir45',\n",
       " 'windspeed45',\n",
       " 'atm_pressure45',\n",
       " 'temp46',\n",
       " 'precip46',\n",
       " 'rel_humidity46',\n",
       " 'wind_dir46',\n",
       " 'windspeed46',\n",
       " 'atm_pressure46',\n",
       " 'temp47',\n",
       " 'precip47',\n",
       " 'rel_humidity47',\n",
       " 'wind_dir47',\n",
       " 'windspeed47',\n",
       " 'atm_pressure47',\n",
       " 'temp48',\n",
       " 'precip48',\n",
       " 'rel_humidity48',\n",
       " 'wind_dir48',\n",
       " 'windspeed48',\n",
       " 'atm_pressure48',\n",
       " 'temp49',\n",
       " 'precip49',\n",
       " 'rel_humidity49',\n",
       " 'wind_dir49',\n",
       " 'windspeed49',\n",
       " 'atm_pressure49',\n",
       " 'temp50',\n",
       " 'precip50',\n",
       " 'rel_humidity50',\n",
       " 'wind_dir50',\n",
       " 'windspeed50',\n",
       " 'atm_pressure50',\n",
       " 'temp51',\n",
       " 'precip51',\n",
       " 'rel_humidity51',\n",
       " 'wind_dir51',\n",
       " 'windspeed51',\n",
       " 'atm_pressure51',\n",
       " 'temp52',\n",
       " 'precip52',\n",
       " 'rel_humidity52',\n",
       " 'wind_dir52',\n",
       " 'windspeed52',\n",
       " 'atm_pressure52',\n",
       " 'temp53',\n",
       " 'precip53',\n",
       " 'rel_humidity53',\n",
       " 'wind_dir53',\n",
       " 'windspeed53',\n",
       " 'atm_pressure53',\n",
       " 'temp54',\n",
       " 'precip54',\n",
       " 'rel_humidity54',\n",
       " 'wind_dir54',\n",
       " 'windspeed54',\n",
       " 'atm_pressure54',\n",
       " 'temp55',\n",
       " 'precip55',\n",
       " 'rel_humidity55',\n",
       " 'wind_dir55',\n",
       " 'windspeed55',\n",
       " 'atm_pressure55',\n",
       " 'temp56',\n",
       " 'precip56',\n",
       " 'rel_humidity56',\n",
       " 'wind_dir56',\n",
       " 'windspeed56',\n",
       " 'atm_pressure56',\n",
       " 'temp57',\n",
       " 'precip57',\n",
       " 'rel_humidity57',\n",
       " 'wind_dir57',\n",
       " 'windspeed57',\n",
       " 'atm_pressure57',\n",
       " 'temp58',\n",
       " 'precip58',\n",
       " 'rel_humidity58',\n",
       " 'wind_dir58',\n",
       " 'windspeed58',\n",
       " 'atm_pressure58',\n",
       " 'temp59',\n",
       " 'precip59',\n",
       " 'rel_humidity59',\n",
       " 'wind_dir59',\n",
       " 'windspeed59',\n",
       " 'atm_pressure59',\n",
       " 'temp60',\n",
       " 'precip60',\n",
       " 'rel_humidity60',\n",
       " 'wind_dir60',\n",
       " 'windspeed60',\n",
       " 'atm_pressure60',\n",
       " 'temp61',\n",
       " 'precip61',\n",
       " 'rel_humidity61',\n",
       " 'wind_dir61',\n",
       " 'windspeed61',\n",
       " 'atm_pressure61',\n",
       " 'temp62',\n",
       " 'precip62',\n",
       " 'rel_humidity62',\n",
       " 'wind_dir62',\n",
       " 'windspeed62',\n",
       " 'atm_pressure62',\n",
       " 'temp63',\n",
       " 'precip63',\n",
       " 'rel_humidity63',\n",
       " 'wind_dir63',\n",
       " 'windspeed63',\n",
       " 'atm_pressure63',\n",
       " 'temp64',\n",
       " 'precip64',\n",
       " 'rel_humidity64',\n",
       " 'wind_dir64',\n",
       " 'windspeed64',\n",
       " 'atm_pressure64',\n",
       " 'temp65',\n",
       " 'precip65',\n",
       " 'rel_humidity65',\n",
       " 'wind_dir65',\n",
       " 'windspeed65',\n",
       " 'atm_pressure65',\n",
       " 'temp66',\n",
       " 'precip66',\n",
       " 'rel_humidity66',\n",
       " 'wind_dir66',\n",
       " 'windspeed66',\n",
       " 'atm_pressure66',\n",
       " 'temp67',\n",
       " 'precip67',\n",
       " 'rel_humidity67',\n",
       " 'wind_dir67',\n",
       " 'windspeed67',\n",
       " 'atm_pressure67',\n",
       " 'temp68',\n",
       " 'precip68',\n",
       " 'rel_humidity68',\n",
       " 'wind_dir68',\n",
       " 'windspeed68',\n",
       " 'atm_pressure68',\n",
       " 'temp69',\n",
       " 'precip69',\n",
       " 'rel_humidity69',\n",
       " 'wind_dir69',\n",
       " 'windspeed69',\n",
       " 'atm_pressure69',\n",
       " 'temp70',\n",
       " 'precip70',\n",
       " 'rel_humidity70',\n",
       " 'wind_dir70',\n",
       " 'windspeed70',\n",
       " 'atm_pressure70',\n",
       " 'temp71',\n",
       " 'precip71',\n",
       " 'rel_humidity71',\n",
       " 'wind_dir71',\n",
       " 'windspeed71',\n",
       " 'atm_pressure71',\n",
       " 'temp72',\n",
       " 'precip72',\n",
       " 'rel_humidity72',\n",
       " 'wind_dir72',\n",
       " 'windspeed72',\n",
       " 'atm_pressure72',\n",
       " 'temp73',\n",
       " 'precip73',\n",
       " 'rel_humidity73',\n",
       " 'wind_dir73',\n",
       " 'windspeed73',\n",
       " 'atm_pressure73',\n",
       " 'temp74',\n",
       " 'precip74',\n",
       " 'rel_humidity74',\n",
       " 'wind_dir74',\n",
       " 'windspeed74',\n",
       " 'atm_pressure74',\n",
       " 'temp75',\n",
       " 'precip75',\n",
       " 'rel_humidity75',\n",
       " 'wind_dir75',\n",
       " 'windspeed75',\n",
       " 'atm_pressure75',\n",
       " 'temp76',\n",
       " 'precip76',\n",
       " 'rel_humidity76',\n",
       " 'wind_dir76',\n",
       " 'windspeed76',\n",
       " 'atm_pressure76',\n",
       " 'temp77',\n",
       " 'precip77',\n",
       " 'rel_humidity77',\n",
       " 'wind_dir77',\n",
       " 'windspeed77',\n",
       " 'atm_pressure77',\n",
       " 'temp78',\n",
       " 'precip78',\n",
       " 'rel_humidity78',\n",
       " 'wind_dir78',\n",
       " 'windspeed78',\n",
       " 'atm_pressure78',\n",
       " 'temp79',\n",
       " 'precip79',\n",
       " 'rel_humidity79',\n",
       " 'wind_dir79',\n",
       " 'windspeed79',\n",
       " 'atm_pressure79',\n",
       " 'temp80',\n",
       " 'precip80',\n",
       " 'rel_humidity80',\n",
       " 'wind_dir80',\n",
       " 'windspeed80',\n",
       " 'atm_pressure80',\n",
       " 'temp81',\n",
       " 'precip81',\n",
       " 'rel_humidity81',\n",
       " 'wind_dir81',\n",
       " 'windspeed81',\n",
       " 'atm_pressure81',\n",
       " 'temp82',\n",
       " 'precip82',\n",
       " 'rel_humidity82',\n",
       " 'wind_dir82',\n",
       " 'windspeed82',\n",
       " 'atm_pressure82',\n",
       " 'temp83',\n",
       " 'precip83',\n",
       " 'rel_humidity83',\n",
       " 'wind_dir83',\n",
       " 'windspeed83',\n",
       " 'atm_pressure83',\n",
       " 'temp84',\n",
       " 'precip84',\n",
       " 'rel_humidity84',\n",
       " 'wind_dir84',\n",
       " 'windspeed84',\n",
       " 'atm_pressure84',\n",
       " 'temp85',\n",
       " 'precip85',\n",
       " 'rel_humidity85',\n",
       " 'wind_dir85',\n",
       " 'windspeed85',\n",
       " 'atm_pressure85',\n",
       " 'temp86',\n",
       " 'precip86',\n",
       " 'rel_humidity86',\n",
       " 'wind_dir86',\n",
       " 'windspeed86',\n",
       " 'atm_pressure86',\n",
       " 'temp87',\n",
       " 'precip87',\n",
       " 'rel_humidity87',\n",
       " 'wind_dir87',\n",
       " 'windspeed87',\n",
       " 'atm_pressure87',\n",
       " 'temp88',\n",
       " 'precip88',\n",
       " 'rel_humidity88',\n",
       " 'wind_dir88',\n",
       " 'windspeed88',\n",
       " 'atm_pressure88',\n",
       " 'temp89',\n",
       " 'precip89',\n",
       " 'rel_humidity89',\n",
       " 'wind_dir89',\n",
       " 'windspeed89',\n",
       " 'atm_pressure89',\n",
       " 'temp90',\n",
       " 'precip90',\n",
       " 'rel_humidity90',\n",
       " 'wind_dir90',\n",
       " 'windspeed90',\n",
       " 'atm_pressure90',\n",
       " 'temp91',\n",
       " 'precip91',\n",
       " 'rel_humidity91',\n",
       " 'wind_dir91',\n",
       " 'windspeed91',\n",
       " 'atm_pressure91',\n",
       " 'temp92',\n",
       " 'precip92',\n",
       " 'rel_humidity92',\n",
       " 'wind_dir92',\n",
       " 'windspeed92',\n",
       " 'atm_pressure92',\n",
       " 'temp93',\n",
       " 'precip93',\n",
       " 'rel_humidity93',\n",
       " 'wind_dir93',\n",
       " 'windspeed93',\n",
       " 'atm_pressure93',\n",
       " 'temp94',\n",
       " 'precip94',\n",
       " 'rel_humidity94',\n",
       " 'wind_dir94',\n",
       " 'windspeed94',\n",
       " 'atm_pressure94',\n",
       " 'temp95',\n",
       " 'precip95',\n",
       " 'rel_humidity95',\n",
       " 'wind_dir95',\n",
       " 'windspeed95',\n",
       " 'atm_pressure95',\n",
       " 'temp96',\n",
       " 'precip96',\n",
       " 'rel_humidity96',\n",
       " 'wind_dir96',\n",
       " 'windspeed96',\n",
       " 'atm_pressure96',\n",
       " 'temp97',\n",
       " 'precip97',\n",
       " 'rel_humidity97',\n",
       " 'wind_dir97',\n",
       " 'windspeed97',\n",
       " 'atm_pressure97',\n",
       " 'temp98',\n",
       " 'precip98',\n",
       " 'rel_humidity98',\n",
       " 'wind_dir98',\n",
       " 'windspeed98',\n",
       " 'atm_pressure98',\n",
       " 'temp99',\n",
       " 'precip99',\n",
       " 'rel_humidity99',\n",
       " 'wind_dir99',\n",
       " 'windspeed99',\n",
       " 'atm_pressure99',\n",
       " 'temp100',\n",
       " 'precip100',\n",
       " 'rel_humidity100',\n",
       " 'wind_dir100',\n",
       " 'windspeed100',\n",
       " 'atm_pressure100',\n",
       " 'temp101',\n",
       " 'precip101',\n",
       " 'rel_humidity101',\n",
       " 'wind_dir101',\n",
       " 'windspeed101',\n",
       " 'atm_pressure101',\n",
       " 'temp102',\n",
       " 'precip102',\n",
       " 'rel_humidity102',\n",
       " 'wind_dir102',\n",
       " 'windspeed102',\n",
       " 'atm_pressure102',\n",
       " 'temp103',\n",
       " 'precip103',\n",
       " 'rel_humidity103',\n",
       " 'wind_dir103',\n",
       " 'windspeed103',\n",
       " 'atm_pressure103',\n",
       " 'temp104',\n",
       " 'precip104',\n",
       " 'rel_humidity104',\n",
       " 'wind_dir104',\n",
       " 'windspeed104',\n",
       " 'atm_pressure104',\n",
       " 'temp105',\n",
       " 'precip105',\n",
       " 'rel_humidity105',\n",
       " 'wind_dir105',\n",
       " 'windspeed105',\n",
       " 'atm_pressure105',\n",
       " 'temp106',\n",
       " 'precip106',\n",
       " 'rel_humidity106',\n",
       " 'wind_dir106',\n",
       " 'windspeed106',\n",
       " 'atm_pressure106',\n",
       " 'temp107',\n",
       " 'precip107',\n",
       " 'rel_humidity107',\n",
       " 'wind_dir107',\n",
       " 'windspeed107',\n",
       " 'atm_pressure107',\n",
       " 'temp108',\n",
       " 'precip108',\n",
       " 'rel_humidity108',\n",
       " 'wind_dir108',\n",
       " 'windspeed108',\n",
       " 'atm_pressure108',\n",
       " 'temp109',\n",
       " 'precip109',\n",
       " 'rel_humidity109',\n",
       " 'wind_dir109',\n",
       " 'windspeed109',\n",
       " 'atm_pressure109',\n",
       " 'temp110',\n",
       " 'precip110',\n",
       " 'rel_humidity110',\n",
       " 'wind_dir110',\n",
       " 'windspeed110',\n",
       " 'atm_pressure110',\n",
       " 'temp111',\n",
       " 'precip111',\n",
       " 'rel_humidity111',\n",
       " 'wind_dir111',\n",
       " 'windspeed111',\n",
       " 'atm_pressure111',\n",
       " 'temp112',\n",
       " 'precip112',\n",
       " 'rel_humidity112',\n",
       " 'wind_dir112',\n",
       " 'windspeed112',\n",
       " 'atm_pressure112',\n",
       " 'temp113',\n",
       " 'precip113',\n",
       " 'rel_humidity113',\n",
       " 'wind_dir113',\n",
       " 'windspeed113',\n",
       " 'atm_pressure113',\n",
       " 'temp114',\n",
       " 'precip114',\n",
       " 'rel_humidity114',\n",
       " 'wind_dir114',\n",
       " 'windspeed114',\n",
       " 'atm_pressure114',\n",
       " 'temp115',\n",
       " 'precip115',\n",
       " 'rel_humidity115',\n",
       " 'wind_dir115',\n",
       " 'windspeed115',\n",
       " 'atm_pressure115',\n",
       " 'temp116',\n",
       " 'precip116',\n",
       " 'rel_humidity116',\n",
       " 'wind_dir116',\n",
       " 'windspeed116',\n",
       " 'atm_pressure116',\n",
       " 'temp117',\n",
       " 'precip117',\n",
       " 'rel_humidity117',\n",
       " 'wind_dir117',\n",
       " 'windspeed117',\n",
       " 'atm_pressure117',\n",
       " 'temp118',\n",
       " 'precip118',\n",
       " 'rel_humidity118',\n",
       " 'wind_dir118',\n",
       " 'windspeed118',\n",
       " 'atm_pressure118',\n",
       " 'temp119',\n",
       " 'precip119',\n",
       " 'rel_humidity119',\n",
       " 'wind_dir119',\n",
       " 'windspeed119',\n",
       " 'atm_pressure119',\n",
       " 'temp120',\n",
       " 'precip120',\n",
       " 'rel_humidity120',\n",
       " 'wind_dir120',\n",
       " 'windspeed120',\n",
       " 'atm_pressure120']"
      ]
     },
     "execution_count": 60,
     "metadata": {},
     "output_type": "execute_result"
    }
   ],
   "source": [
    "data=pd.concat([train,test],sort=False).reset_index(drop=True)\n",
    "\n",
    "for x in range(121):\n",
    "    data[\"temp\"+ str(x)] = data.temp.str[x]\n",
    "    data[\"precip\"+ str(x)] = data.precip.str[x]\n",
    "    data[\"rel_humidity\"+ str(x)] = data.rel_humidity.str[x]\n",
    "    data[\"wind_dir\"+ str(x)] = data.wind_dir.str[x]\n",
    "    data[\"windspeed\"+ str(x)] = data.wind_spd.str[x]\n",
    "    data[\"atm_pressure\"+ str(x)] = data.atmos_press.str[x]\n",
    "    \n",
    "data.columns.tolist()"
   ]
  },
  {
   "cell_type": "code",
   "execution_count": 61,
   "metadata": {
    "colab": {},
    "colab_type": "code",
    "id": "1dYviSGeHhs_",
    "outputId": "f7ba50b1-b57d-4e46-e056-f466566b0fe7"
   },
   "outputs": [
    {
     "data": {
      "text/plain": [
       "(20574, 735)"
      ]
     },
     "execution_count": 61,
     "metadata": {},
     "output_type": "execute_result"
    }
   ],
   "source": [
    "data.shape"
   ]
  },
  {
   "cell_type": "code",
   "execution_count": 62,
   "metadata": {
    "colab": {},
    "colab_type": "code",
    "collapsed": true,
    "id": "cNcORQK-HhtG",
    "outputId": "bf147e49-5615-4933-d52f-a2e40931a972"
   },
   "outputs": [
    {
     "name": "stderr",
     "output_type": "stream",
     "text": [
      "  0%|          | 0/6 [00:00<?, ?it/s]\n"
     ]
    },
    {
     "ename": "NameError",
     "evalue": "name 'math' is not defined",
     "output_type": "error",
     "traceback": [
      "\u001b[0;31m---------------------------------------------------------------------------\u001b[0m",
      "\u001b[0;31mNameError\u001b[0m                                 Traceback (most recent call last)",
      "\u001b[0;32m<ipython-input-62-699848535180>\u001b[0m in \u001b[0;36m<module>\u001b[0;34m\u001b[0m\n\u001b[1;32m      1\u001b[0m \u001b[0;32mfor\u001b[0m \u001b[0mcol_name\u001b[0m \u001b[0;32min\u001b[0m \u001b[0mtqdm\u001b[0m\u001b[0;34m(\u001b[0m\u001b[0mfeatures\u001b[0m\u001b[0;34m)\u001b[0m\u001b[0;34m:\u001b[0m\u001b[0;34m\u001b[0m\u001b[0;34m\u001b[0m\u001b[0m\n\u001b[0;32m----> 2\u001b[0;31m     \u001b[0mdata\u001b[0m\u001b[0;34m[\u001b[0m\u001b[0mcol_name\u001b[0m\u001b[0;34m]\u001b[0m\u001b[0;34m=\u001b[0m\u001b[0mdata\u001b[0m\u001b[0;34m[\u001b[0m\u001b[0mcol_name\u001b[0m\u001b[0;34m]\u001b[0m\u001b[0;34m.\u001b[0m\u001b[0mapply\u001b[0m\u001b[0;34m(\u001b[0m\u001b[0mremove_nan_values\u001b[0m\u001b[0;34m)\u001b[0m\u001b[0;34m\u001b[0m\u001b[0;34m\u001b[0m\u001b[0m\n\u001b[0m",
      "\u001b[0;32m~/anaconda3/lib/python3.7/site-packages/pandas/core/series.py\u001b[0m in \u001b[0;36mapply\u001b[0;34m(self, func, convert_dtype, args, **kwds)\u001b[0m\n\u001b[1;32m   3589\u001b[0m             \u001b[0;32melse\u001b[0m\u001b[0;34m:\u001b[0m\u001b[0;34m\u001b[0m\u001b[0;34m\u001b[0m\u001b[0m\n\u001b[1;32m   3590\u001b[0m                 \u001b[0mvalues\u001b[0m \u001b[0;34m=\u001b[0m \u001b[0mself\u001b[0m\u001b[0;34m.\u001b[0m\u001b[0mastype\u001b[0m\u001b[0;34m(\u001b[0m\u001b[0mobject\u001b[0m\u001b[0;34m)\u001b[0m\u001b[0;34m.\u001b[0m\u001b[0mvalues\u001b[0m\u001b[0;34m\u001b[0m\u001b[0;34m\u001b[0m\u001b[0m\n\u001b[0;32m-> 3591\u001b[0;31m                 \u001b[0mmapped\u001b[0m \u001b[0;34m=\u001b[0m \u001b[0mlib\u001b[0m\u001b[0;34m.\u001b[0m\u001b[0mmap_infer\u001b[0m\u001b[0;34m(\u001b[0m\u001b[0mvalues\u001b[0m\u001b[0;34m,\u001b[0m \u001b[0mf\u001b[0m\u001b[0;34m,\u001b[0m \u001b[0mconvert\u001b[0m\u001b[0;34m=\u001b[0m\u001b[0mconvert_dtype\u001b[0m\u001b[0;34m)\u001b[0m\u001b[0;34m\u001b[0m\u001b[0;34m\u001b[0m\u001b[0m\n\u001b[0m\u001b[1;32m   3592\u001b[0m \u001b[0;34m\u001b[0m\u001b[0m\n\u001b[1;32m   3593\u001b[0m         \u001b[0;32mif\u001b[0m \u001b[0mlen\u001b[0m\u001b[0;34m(\u001b[0m\u001b[0mmapped\u001b[0m\u001b[0;34m)\u001b[0m \u001b[0;32mand\u001b[0m \u001b[0misinstance\u001b[0m\u001b[0;34m(\u001b[0m\u001b[0mmapped\u001b[0m\u001b[0;34m[\u001b[0m\u001b[0;36m0\u001b[0m\u001b[0;34m]\u001b[0m\u001b[0;34m,\u001b[0m \u001b[0mSeries\u001b[0m\u001b[0;34m)\u001b[0m\u001b[0;34m:\u001b[0m\u001b[0;34m\u001b[0m\u001b[0;34m\u001b[0m\u001b[0m\n",
      "\u001b[0;32mpandas/_libs/lib.pyx\u001b[0m in \u001b[0;36mpandas._libs.lib.map_infer\u001b[0;34m()\u001b[0m\n",
      "\u001b[0;32m<ipython-input-59-44bafcea2f8d>\u001b[0m in \u001b[0;36mremove_nan_values\u001b[0;34m(x)\u001b[0m\n\u001b[1;32m      9\u001b[0m     \u001b[0;32mreturn\u001b[0m \u001b[0mx\u001b[0m\u001b[0;34m\u001b[0m\u001b[0;34m\u001b[0m\u001b[0m\n\u001b[1;32m     10\u001b[0m \u001b[0;32mdef\u001b[0m \u001b[0mremove_nan_values\u001b[0m\u001b[0;34m(\u001b[0m\u001b[0mx\u001b[0m\u001b[0;34m)\u001b[0m\u001b[0;34m:\u001b[0m\u001b[0;34m\u001b[0m\u001b[0;34m\u001b[0m\u001b[0m\n\u001b[0;32m---> 11\u001b[0;31m     \u001b[0;32mreturn\u001b[0m \u001b[0;34m[\u001b[0m\u001b[0me\u001b[0m \u001b[0;32mfor\u001b[0m \u001b[0me\u001b[0m \u001b[0;32min\u001b[0m \u001b[0mx\u001b[0m \u001b[0;32mif\u001b[0m \u001b[0;32mnot\u001b[0m \u001b[0mmath\u001b[0m\u001b[0;34m.\u001b[0m\u001b[0misnan\u001b[0m\u001b[0;34m(\u001b[0m\u001b[0me\u001b[0m\u001b[0;34m)\u001b[0m\u001b[0;34m]\u001b[0m\u001b[0;34m\u001b[0m\u001b[0;34m\u001b[0m\u001b[0m\n\u001b[0m",
      "\u001b[0;32m<ipython-input-59-44bafcea2f8d>\u001b[0m in \u001b[0;36m<listcomp>\u001b[0;34m(.0)\u001b[0m\n\u001b[1;32m      9\u001b[0m     \u001b[0;32mreturn\u001b[0m \u001b[0mx\u001b[0m\u001b[0;34m\u001b[0m\u001b[0;34m\u001b[0m\u001b[0m\n\u001b[1;32m     10\u001b[0m \u001b[0;32mdef\u001b[0m \u001b[0mremove_nan_values\u001b[0m\u001b[0;34m(\u001b[0m\u001b[0mx\u001b[0m\u001b[0;34m)\u001b[0m\u001b[0;34m:\u001b[0m\u001b[0;34m\u001b[0m\u001b[0;34m\u001b[0m\u001b[0m\n\u001b[0;32m---> 11\u001b[0;31m     \u001b[0;32mreturn\u001b[0m \u001b[0;34m[\u001b[0m\u001b[0me\u001b[0m \u001b[0;32mfor\u001b[0m \u001b[0me\u001b[0m \u001b[0;32min\u001b[0m \u001b[0mx\u001b[0m \u001b[0;32mif\u001b[0m \u001b[0;32mnot\u001b[0m \u001b[0mmath\u001b[0m\u001b[0;34m.\u001b[0m\u001b[0misnan\u001b[0m\u001b[0;34m(\u001b[0m\u001b[0me\u001b[0m\u001b[0;34m)\u001b[0m\u001b[0;34m]\u001b[0m\u001b[0;34m\u001b[0m\u001b[0;34m\u001b[0m\u001b[0m\n\u001b[0m",
      "\u001b[0;31mNameError\u001b[0m: name 'math' is not defined"
     ]
    }
   ],
   "source": [
    "for col_name in tqdm(features):\n",
    "    data[col_name]=data[col_name].apply(remove_nan_values)"
   ]
  },
  {
   "cell_type": "code",
   "execution_count": null,
   "metadata": {
    "colab": {},
    "colab_type": "code",
    "id": "K9iStUBEHhtO",
    "outputId": "fb11a868-3140-4112-be06-598fdf8e7d44"
   },
   "outputs": [],
   "source": [
    "for col_name in tqdm(features):\n",
    "    data=aggregate_features(data,col_name)"
   ]
  },
  {
   "cell_type": "code",
   "execution_count": null,
   "metadata": {
    "colab": {},
    "colab_type": "code",
    "id": "aiAM7WA3HhtR"
   },
   "outputs": [],
   "source": [
    "data.drop(features,1,inplace=True)"
   ]
  },
  {
   "cell_type": "code",
   "execution_count": null,
   "metadata": {
    "colab": {},
    "colab_type": "code",
    "id": "b-inscoEHhtU"
   },
   "outputs": [],
   "source": [
    "train = data[data.target.notnull()].reset_index(drop=True)\n",
    "test = data[data.target.isna()].reset_index(drop=True)"
   ]
  },
  {
   "cell_type": "code",
   "execution_count": null,
   "metadata": {
    "colab": {},
    "colab_type": "code",
    "id": "j5JqDT3SHhtY",
    "outputId": "1510c23f-5736-48ae-ab11-2cc2cda5a61c"
   },
   "outputs": [],
   "source": [
    "del data  \n",
    "gc.collect()"
   ]
  },
  {
   "cell_type": "code",
   "execution_count": null,
   "metadata": {},
   "outputs": [],
   "source": [
    "#os.mkdir('./proc_data')\n",
    "train.to_csv('./proc_data/train.csv', index=False)\n",
    "test.to_csv('./proc_data/test.csv', index=False)"
   ]
  },
  {
   "cell_type": "code",
   "execution_count": 3,
   "metadata": {
    "colab": {},
    "colab_type": "code",
    "id": "h_m0qW-3Hhtb",
    "outputId": "54b37955-8ff1-4464-8274-9e24d7c58f75"
   },
   "outputs": [],
   "source": [
    "train = pd.read_csv(\"./proc_data/train.csv\")\n",
    "test = pd.read_csv(\"./proc_data/test.csv\")\n",
    "sample_sub = pd.read_csv(\"./raw/sample_sub.csv\")"
   ]
  },
  {
   "cell_type": "code",
   "execution_count": 4,
   "metadata": {},
   "outputs": [
    {
     "data": {
      "text/plain": [
       "((15539, 741), (5035, 741))"
      ]
     },
     "execution_count": 4,
     "metadata": {},
     "output_type": "execute_result"
    }
   ],
   "source": [
    "train.shape, test.shape"
   ]
  },
  {
   "cell_type": "code",
   "execution_count": 5,
   "metadata": {},
   "outputs": [],
   "source": [
    "train = train.drop(train.columns[-12:], axis=1)\n",
    "test = test.drop(test.columns[-12:], axis=1)"
   ]
  },
  {
   "cell_type": "code",
   "execution_count": null,
   "metadata": {
    "colab": {},
    "colab_type": "code",
    "id": "Ycw-LMZvHhtf",
    "outputId": "f84c93d8-e19d-48b2-e068-0e7fa306d0b0"
   },
   "outputs": [],
   "source": []
  },
  {
   "cell_type": "code",
   "execution_count": 6,
   "metadata": {},
   "outputs": [],
   "source": [
    "# Encode locations\n",
    "encoder = LabelEncoder()\n",
    "encoder.fit(train.location)\n",
    "train['location'] = encoder.transform(train.location)\n",
    "test['location'] = encoder.transform(test.location)"
   ]
  },
  {
   "cell_type": "code",
   "execution_count": 9,
   "metadata": {},
   "outputs": [
    {
     "data": {
      "text/plain": [
       "<matplotlib.axes._subplots.AxesSubplot at 0x7fc7efe20b00>"
      ]
     },
     "execution_count": 9,
     "metadata": {},
     "output_type": "execute_result"
    },
    {
     "data": {
      "image/png": "[encoded data removed]",
      "text/plain": [
       "<Figure size 432x288 with 1 Axes>"
      ]
     },
     "metadata": {
      "needs_background": "light"
     },
     "output_type": "display_data"
    }
   ],
   "source": [
    "sns.distplot(train.target.values, bins=100)"
   ]
  },
  {
   "cell_type": "code",
   "execution_count": 11,
   "metadata": {},
   "outputs": [
    {
     "name": "stdout",
     "output_type": "stream",
     "text": [
      "(15539, 729) (5035, 729)\n"
     ]
    }
   ],
   "source": [
    "print(train.shape, test.shape)"
   ]
  },
  {
   "cell_type": "code",
   "execution_count": null,
   "metadata": {
    "scrolled": true
   },
   "outputs": [],
   "source": []
  },
  {
   "cell_type": "code",
   "execution_count": 48,
   "metadata": {},
   "outputs": [],
   "source": [
    "# Calculating daily averages\n",
    "# Each column represents an hourly reading so a daily reading\n",
    "# would be a collection of 24 feature columns per weather variable\n",
    "\n",
    "def get_columns(df):\n",
    "    \"\"\"\n",
    "    Fetches individual weather variables for the \n",
    "    entire 5-day duration.\n",
    "    \"\"\"\n",
    "    temp = [col for col in df.columns if 'temp' in col]\n",
    "    precip = [col for col in df.columns if 'precip' in col]\n",
    "    humid = [col for col in df.columns if 'rel_humidity' in col]\n",
    "    windir = [col for col in df.columns if 'wind_dir' in col]\n",
    "    winspd = [col for col in df.columns if 'windspeed' in col]\n",
    "    at_pres = [col for col in df.columns if 'atm_pressure' in col]\n",
    "    return temp, precip, humid, windir, winspd, at_pres\n",
    "\n",
    "temp, precip, humid, windir, winspd, at_pres = get_columns(train)\n",
    "\n",
    "def gen_daily_means(df):\n",
    "    \"\"\"Compute daily individual feature means.\"\"\"\n",
    "    for i in range(1,6):\n",
    "        start, stop = 0, 24\n",
    "        df[f'day{i}_temp'] = df[temp[start:stop]].mean(axis=1)\n",
    "        df[f'day{i}_precip'] = df[precip[start:stop]].mean(axis=1)\n",
    "        df[f'day{i}_humid'] = df[humid[start:stop]].mean(axis=1)\n",
    "        df[f'day{i}_windir'] = df[windir[start:stop]].mean(axis=1)\n",
    "        df[f'day{i}_winspd'] = df[winspd[start:stop]].mean(axis=1)\n",
    "        df[f'day{i}_at_pres'] = df[at_pres[start:stop]].mean(axis=1)\n",
    "        start = stop\n",
    "        stop += 24\n",
    "    #df.drop((temp+precip+humid+windir+winspd+at_pres), axis=1, inplace=True)\n",
    "    return df\n",
    "\n",
    "train_aggr = gen_daily_means(train)\n",
    "test_aggr = gen_daily_means(test)"
   ]
  },
  {
   "cell_type": "code",
   "execution_count": 49,
   "metadata": {},
   "outputs": [
    {
     "name": "stdout",
     "output_type": "stream",
     "text": [
      "(15539, 23) (5035, 23)\n"
     ]
    }
   ],
   "source": [
    "print(train_aggr.shape, test_aggr.shape)\n",
    "#train_aggr.to_csv('./proc_data/train_aggr.csv', index=False)\n",
    "#test_aggr.to_csv('./proc_data/test_aggr.csv', index=False)"
   ]
  },
  {
   "cell_type": "code",
   "execution_count": 32,
   "metadata": {},
   "outputs": [],
   "source": [
    "#train_aggr.head()"
   ]
  },
  {
   "cell_type": "code",
   "execution_count": null,
   "metadata": {},
   "outputs": [],
   "source": []
  },
  {
   "cell_type": "code",
   "execution_count": 7,
   "metadata": {
    "colab": {},
    "colab_type": "code",
    "id": "gEMsXuSmHhuC"
   },
   "outputs": [],
   "source": [
    "def rmse(y_true, y_pred):\n",
    "    return np.sqrt(mean_squared_error(y_true, y_pred))"
   ]
  },
  {
   "cell_type": "code",
   "execution_count": 8,
   "metadata": {
    "colab": {},
    "colab_type": "code",
    "id": "gNZsZC7qHhuH"
   },
   "outputs": [],
   "source": [
    "# Create train and \n",
    "y = train.target\n",
    "X = train.drop(['ID', 'target'], axis=1)\n",
    "\n",
    "ids = test['ID']\n",
    "test = test.drop(['ID', 'target'], axis=1)\n",
    "\n",
    "X = X.fillna(value=X.mean()).astype('float32')\n",
    "test = test.fillna(value=test.mean()).astype('float32')"
   ]
  },
  {
   "cell_type": "code",
   "execution_count": 22,
   "metadata": {},
   "outputs": [],
   "source": [
    "# Split the train set into train and validation\n",
    "X_train = X[:12500]\n",
    "X_val = X[12500:]\n",
    "y_train = y[:12500]\n",
    "y_val = y[12500:]"
   ]
  },
  {
   "cell_type": "code",
   "execution_count": 23,
   "metadata": {},
   "outputs": [
    {
     "data": {
      "text/plain": [
       "((12500, 727), (3039, 727), ((12500,), (3039,)))"
      ]
     },
     "execution_count": 23,
     "metadata": {},
     "output_type": "execute_result"
    }
   ],
   "source": [
    "X_train.shape, X_val.shape, (y_train.shape, y_val.shape)"
   ]
  },
  {
   "cell_type": "markdown",
   "metadata": {
    "colab_type": "text",
    "id": "WOR5662jHhtv"
   },
   "source": [
    "### Modelling and evaluation"
   ]
  },
  {
   "cell_type": "code",
   "execution_count": 21,
   "metadata": {
    "collapsed": true
   },
   "outputs": [
    {
     "ename": "MemoryError",
     "evalue": "",
     "output_type": "error",
     "traceback": [
      "\u001b[0;31m---------------------------------------------------------------------------\u001b[0m",
      "\u001b[0;31mMemoryError\u001b[0m                               Traceback (most recent call last)",
      "\u001b[0;32m<ipython-input-21-5b86f2711e23>\u001b[0m in \u001b[0;36m<module>\u001b[0;34m\u001b[0m\n\u001b[1;32m     15\u001b[0m                                   )\n\u001b[1;32m     16\u001b[0m                              )\n\u001b[0;32m---> 17\u001b[0;31m     \u001b[0msvr_model\u001b[0m\u001b[0;34m.\u001b[0m\u001b[0mfit\u001b[0m\u001b[0;34m(\u001b[0m\u001b[0mX_train\u001b[0m\u001b[0;34m,\u001b[0m \u001b[0my_train\u001b[0m\u001b[0;34m)\u001b[0m\u001b[0;34m\u001b[0m\u001b[0;34m\u001b[0m\u001b[0m\n\u001b[0m\u001b[1;32m     18\u001b[0m     \u001b[0mroot_mse\u001b[0m \u001b[0;34m=\u001b[0m \u001b[0mrmse\u001b[0m\u001b[0;34m(\u001b[0m\u001b[0my_val\u001b[0m\u001b[0;34m,\u001b[0m \u001b[0msvr_model\u001b[0m\u001b[0;34m.\u001b[0m\u001b[0mpredict\u001b[0m\u001b[0;34m(\u001b[0m\u001b[0mX_val\u001b[0m\u001b[0;34m)\u001b[0m\u001b[0;34m)\u001b[0m\u001b[0;34m\u001b[0m\u001b[0;34m\u001b[0m\u001b[0m\n\u001b[1;32m     19\u001b[0m     \u001b[0mtrain_scores\u001b[0m\u001b[0;34m.\u001b[0m\u001b[0mappend\u001b[0m\u001b[0;34m(\u001b[0m\u001b[0mroot_mse\u001b[0m\u001b[0;34m)\u001b[0m\u001b[0;34m\u001b[0m\u001b[0;34m\u001b[0m\u001b[0m\n",
      "\u001b[0;32m~/anaconda3/lib/python3.7/site-packages/sklearn/pipeline.py\u001b[0m in \u001b[0;36mfit\u001b[0;34m(self, X, y, **fit_params)\u001b[0m\n\u001b[1;32m    350\u001b[0m             \u001b[0mThis\u001b[0m \u001b[0mestimator\u001b[0m\u001b[0;34m\u001b[0m\u001b[0;34m\u001b[0m\u001b[0m\n\u001b[1;32m    351\u001b[0m         \"\"\"\n\u001b[0;32m--> 352\u001b[0;31m         \u001b[0mXt\u001b[0m\u001b[0;34m,\u001b[0m \u001b[0mfit_params\u001b[0m \u001b[0;34m=\u001b[0m \u001b[0mself\u001b[0m\u001b[0;34m.\u001b[0m\u001b[0m_fit\u001b[0m\u001b[0;34m(\u001b[0m\u001b[0mX\u001b[0m\u001b[0;34m,\u001b[0m \u001b[0my\u001b[0m\u001b[0;34m,\u001b[0m \u001b[0;34m**\u001b[0m\u001b[0mfit_params\u001b[0m\u001b[0;34m)\u001b[0m\u001b[0;34m\u001b[0m\u001b[0;34m\u001b[0m\u001b[0m\n\u001b[0m\u001b[1;32m    353\u001b[0m         with _print_elapsed_time('Pipeline',\n\u001b[1;32m    354\u001b[0m                                  self._log_message(len(self.steps) - 1)):\n",
      "\u001b[0;32m~/anaconda3/lib/python3.7/site-packages/sklearn/pipeline.py\u001b[0m in \u001b[0;36m_fit\u001b[0;34m(self, X, y, **fit_params)\u001b[0m\n\u001b[1;32m    315\u001b[0m                 \u001b[0mmessage_clsname\u001b[0m\u001b[0;34m=\u001b[0m\u001b[0;34m'Pipeline'\u001b[0m\u001b[0;34m,\u001b[0m\u001b[0;34m\u001b[0m\u001b[0;34m\u001b[0m\u001b[0m\n\u001b[1;32m    316\u001b[0m                 \u001b[0mmessage\u001b[0m\u001b[0;34m=\u001b[0m\u001b[0mself\u001b[0m\u001b[0;34m.\u001b[0m\u001b[0m_log_message\u001b[0m\u001b[0;34m(\u001b[0m\u001b[0mstep_idx\u001b[0m\u001b[0;34m)\u001b[0m\u001b[0;34m,\u001b[0m\u001b[0;34m\u001b[0m\u001b[0;34m\u001b[0m\u001b[0m\n\u001b[0;32m--> 317\u001b[0;31m                 **fit_params_steps[name])\n\u001b[0m\u001b[1;32m    318\u001b[0m             \u001b[0;31m# Replace the transformer of the step with the fitted\u001b[0m\u001b[0;34m\u001b[0m\u001b[0;34m\u001b[0m\u001b[0;34m\u001b[0m\u001b[0m\n\u001b[1;32m    319\u001b[0m             \u001b[0;31m# transformer. This is necessary when loading the transformer\u001b[0m\u001b[0;34m\u001b[0m\u001b[0;34m\u001b[0m\u001b[0;34m\u001b[0m\u001b[0m\n",
      "\u001b[0;32m~/anaconda3/lib/python3.7/site-packages/joblib/memory.py\u001b[0m in \u001b[0;36m__call__\u001b[0;34m(self, *args, **kwargs)\u001b[0m\n\u001b[1;32m    353\u001b[0m \u001b[0;34m\u001b[0m\u001b[0m\n\u001b[1;32m    354\u001b[0m     \u001b[0;32mdef\u001b[0m \u001b[0m__call__\u001b[0m\u001b[0;34m(\u001b[0m\u001b[0mself\u001b[0m\u001b[0;34m,\u001b[0m \u001b[0;34m*\u001b[0m\u001b[0margs\u001b[0m\u001b[0;34m,\u001b[0m \u001b[0;34m**\u001b[0m\u001b[0mkwargs\u001b[0m\u001b[0;34m)\u001b[0m\u001b[0;34m:\u001b[0m\u001b[0;34m\u001b[0m\u001b[0;34m\u001b[0m\u001b[0m\n\u001b[0;32m--> 355\u001b[0;31m         \u001b[0;32mreturn\u001b[0m \u001b[0mself\u001b[0m\u001b[0;34m.\u001b[0m\u001b[0mfunc\u001b[0m\u001b[0;34m(\u001b[0m\u001b[0;34m*\u001b[0m\u001b[0margs\u001b[0m\u001b[0;34m,\u001b[0m \u001b[0;34m**\u001b[0m\u001b[0mkwargs\u001b[0m\u001b[0;34m)\u001b[0m\u001b[0;34m\u001b[0m\u001b[0;34m\u001b[0m\u001b[0m\n\u001b[0m\u001b[1;32m    356\u001b[0m \u001b[0;34m\u001b[0m\u001b[0m\n\u001b[1;32m    357\u001b[0m     \u001b[0;32mdef\u001b[0m \u001b[0mcall_and_shelve\u001b[0m\u001b[0;34m(\u001b[0m\u001b[0mself\u001b[0m\u001b[0;34m,\u001b[0m \u001b[0;34m*\u001b[0m\u001b[0margs\u001b[0m\u001b[0;34m,\u001b[0m \u001b[0;34m**\u001b[0m\u001b[0mkwargs\u001b[0m\u001b[0;34m)\u001b[0m\u001b[0;34m:\u001b[0m\u001b[0;34m\u001b[0m\u001b[0;34m\u001b[0m\u001b[0m\n",
      "\u001b[0;32m~/anaconda3/lib/python3.7/site-packages/sklearn/pipeline.py\u001b[0m in \u001b[0;36m_fit_transform_one\u001b[0;34m(transformer, X, y, weight, message_clsname, message, **fit_params)\u001b[0m\n\u001b[1;32m    714\u001b[0m     \u001b[0;32mwith\u001b[0m \u001b[0m_print_elapsed_time\u001b[0m\u001b[0;34m(\u001b[0m\u001b[0mmessage_clsname\u001b[0m\u001b[0;34m,\u001b[0m \u001b[0mmessage\u001b[0m\u001b[0;34m)\u001b[0m\u001b[0;34m:\u001b[0m\u001b[0;34m\u001b[0m\u001b[0;34m\u001b[0m\u001b[0m\n\u001b[1;32m    715\u001b[0m         \u001b[0;32mif\u001b[0m \u001b[0mhasattr\u001b[0m\u001b[0;34m(\u001b[0m\u001b[0mtransformer\u001b[0m\u001b[0;34m,\u001b[0m \u001b[0;34m'fit_transform'\u001b[0m\u001b[0;34m)\u001b[0m\u001b[0;34m:\u001b[0m\u001b[0;34m\u001b[0m\u001b[0;34m\u001b[0m\u001b[0m\n\u001b[0;32m--> 716\u001b[0;31m             \u001b[0mres\u001b[0m \u001b[0;34m=\u001b[0m \u001b[0mtransformer\u001b[0m\u001b[0;34m.\u001b[0m\u001b[0mfit_transform\u001b[0m\u001b[0;34m(\u001b[0m\u001b[0mX\u001b[0m\u001b[0;34m,\u001b[0m \u001b[0my\u001b[0m\u001b[0;34m,\u001b[0m \u001b[0;34m**\u001b[0m\u001b[0mfit_params\u001b[0m\u001b[0;34m)\u001b[0m\u001b[0;34m\u001b[0m\u001b[0;34m\u001b[0m\u001b[0m\n\u001b[0m\u001b[1;32m    717\u001b[0m         \u001b[0;32melse\u001b[0m\u001b[0;34m:\u001b[0m\u001b[0;34m\u001b[0m\u001b[0;34m\u001b[0m\u001b[0m\n\u001b[1;32m    718\u001b[0m             \u001b[0mres\u001b[0m \u001b[0;34m=\u001b[0m \u001b[0mtransformer\u001b[0m\u001b[0;34m.\u001b[0m\u001b[0mfit\u001b[0m\u001b[0;34m(\u001b[0m\u001b[0mX\u001b[0m\u001b[0;34m,\u001b[0m \u001b[0my\u001b[0m\u001b[0;34m,\u001b[0m \u001b[0;34m**\u001b[0m\u001b[0mfit_params\u001b[0m\u001b[0;34m)\u001b[0m\u001b[0;34m.\u001b[0m\u001b[0mtransform\u001b[0m\u001b[0;34m(\u001b[0m\u001b[0mX\u001b[0m\u001b[0;34m)\u001b[0m\u001b[0;34m\u001b[0m\u001b[0;34m\u001b[0m\u001b[0m\n",
      "\u001b[0;32m~/anaconda3/lib/python3.7/site-packages/sklearn/base.py\u001b[0m in \u001b[0;36mfit_transform\u001b[0;34m(self, X, y, **fit_params)\u001b[0m\n\u001b[1;32m    554\u001b[0m         \u001b[0;32melse\u001b[0m\u001b[0;34m:\u001b[0m\u001b[0;34m\u001b[0m\u001b[0;34m\u001b[0m\u001b[0m\n\u001b[1;32m    555\u001b[0m             \u001b[0;31m# fit method of arity 2 (supervised transformation)\u001b[0m\u001b[0;34m\u001b[0m\u001b[0;34m\u001b[0m\u001b[0;34m\u001b[0m\u001b[0m\n\u001b[0;32m--> 556\u001b[0;31m             \u001b[0;32mreturn\u001b[0m \u001b[0mself\u001b[0m\u001b[0;34m.\u001b[0m\u001b[0mfit\u001b[0m\u001b[0;34m(\u001b[0m\u001b[0mX\u001b[0m\u001b[0;34m,\u001b[0m \u001b[0my\u001b[0m\u001b[0;34m,\u001b[0m \u001b[0;34m**\u001b[0m\u001b[0mfit_params\u001b[0m\u001b[0;34m)\u001b[0m\u001b[0;34m.\u001b[0m\u001b[0mtransform\u001b[0m\u001b[0;34m(\u001b[0m\u001b[0mX\u001b[0m\u001b[0;34m)\u001b[0m\u001b[0;34m\u001b[0m\u001b[0;34m\u001b[0m\u001b[0m\n\u001b[0m\u001b[1;32m    557\u001b[0m \u001b[0;34m\u001b[0m\u001b[0m\n\u001b[1;32m    558\u001b[0m \u001b[0;34m\u001b[0m\u001b[0m\n",
      "\u001b[0;32m~/anaconda3/lib/python3.7/site-packages/sklearn/preprocessing/data.py\u001b[0m in \u001b[0;36mtransform\u001b[0;34m(self, X)\u001b[0m\n\u001b[1;32m   1544\u001b[0m             \u001b[0;32melse\u001b[0m\u001b[0;34m:\u001b[0m\u001b[0;34m\u001b[0m\u001b[0;34m\u001b[0m\u001b[0m\n\u001b[1;32m   1545\u001b[0m                 XP = np.empty((n_samples, self.n_output_features_),\n\u001b[0;32m-> 1546\u001b[0;31m                               dtype=X.dtype, order=self.order)\n\u001b[0m\u001b[1;32m   1547\u001b[0m                 \u001b[0;32mfor\u001b[0m \u001b[0mi\u001b[0m\u001b[0;34m,\u001b[0m \u001b[0mcomb\u001b[0m \u001b[0;32min\u001b[0m \u001b[0menumerate\u001b[0m\u001b[0;34m(\u001b[0m\u001b[0mcombinations\u001b[0m\u001b[0;34m)\u001b[0m\u001b[0;34m:\u001b[0m\u001b[0;34m\u001b[0m\u001b[0;34m\u001b[0m\u001b[0m\n\u001b[1;32m   1548\u001b[0m                     \u001b[0mXP\u001b[0m\u001b[0;34m[\u001b[0m\u001b[0;34m:\u001b[0m\u001b[0;34m,\u001b[0m \u001b[0mi\u001b[0m\u001b[0;34m]\u001b[0m \u001b[0;34m=\u001b[0m \u001b[0mX\u001b[0m\u001b[0;34m[\u001b[0m\u001b[0;34m:\u001b[0m\u001b[0;34m,\u001b[0m \u001b[0mcomb\u001b[0m\u001b[0;34m]\u001b[0m\u001b[0;34m.\u001b[0m\u001b[0mprod\u001b[0m\u001b[0;34m(\u001b[0m\u001b[0;36m1\u001b[0m\u001b[0;34m)\u001b[0m\u001b[0;34m\u001b[0m\u001b[0;34m\u001b[0m\u001b[0m\n",
      "\u001b[0;31mMemoryError\u001b[0m: "
     ]
    }
   ],
   "source": [
    "#SVR\n",
    "group_kfold = GroupKFold(n_splits=5)\n",
    "\n",
    "groups = np.array(X.location)\n",
    "train_scores = []\n",
    "for train, val in group_kfold.split(X, y, groups):\n",
    "    X_train, y_train = X.iloc[train], y.iloc[train]\n",
    "    X_val, y_val = X.iloc[val], y.iloc[val]\n",
    "    \n",
    "    svr_model = make_pipeline(PolynomialFeatures(),\n",
    "                              MinMaxScaler(),\n",
    "                              SVR(kernel='rbf',\n",
    "                                  C=10,\n",
    "                                  cache_size=200\n",
    "                                  )\n",
    "                             )\n",
    "    svr_model.fit(X_train, y_train)\n",
    "    root_mse = rmse(y_val, svr_model.predict(X_val))\n",
    "    train_scores.append(root_mse)\n",
    "    print(root_mse)\n",
    "\n",
    "print(\"Average score in 5-fold CV:\", np.mean(train_scores))"
   ]
  },
  {
   "cell_type": "code",
   "execution_count": 37,
   "metadata": {},
   "outputs": [
    {
     "name": "stdout",
     "output_type": "stream",
     "text": [
      "33.313880458578275\n",
      "47.49760567878634\n",
      "41.032216184650395\n",
      "44.96394481849733\n",
      "36.39231413498861\n",
      "Average score in 10-fold CV: 40.639992255100196\n"
     ]
    }
   ],
   "source": [
    "# RandomForest\n",
    "group_kfold = GroupKFold(n_splits=5)\n",
    "\n",
    "groups = np.array(X.location)\n",
    "scores = []\n",
    "for train, val in group_kfold.split(X, y, groups):\n",
    "    X_train, y_train = X.iloc[train], y.iloc[train]\n",
    "    X_val, y_val = X.iloc[val], y.iloc[val]\n",
    "    \n",
    "    model = RandomForestRegressor(n_estimators=200, max_depth=11, n_jobs=-1, max_features='sqrt',\n",
    "                                  random_state=42)\n",
    "    model.fit(X_train, y_train)\n",
    "    root_mse = rmse(y_val, model.predict(X_val))\n",
    "    scores.append(root_mse)\n",
    "    print(root_mse)\n",
    "\n",
    "print(\"Average score in 10-fold CV:\", np.mean(scores))"
   ]
  },
  {
   "cell_type": "code",
   "execution_count": 28,
   "metadata": {},
   "outputs": [
    {
     "data": {
      "text/plain": [
       "SVR(C=10, cache_size=50, coef0=0.0, degree=3, epsilon=0.1,\n",
       "    gamma='auto_deprecated', kernel='rbf', max_iter=-1, shrinking=True,\n",
       "    tol=0.001, verbose=False)"
      ]
     },
     "execution_count": 28,
     "metadata": {},
     "output_type": "execute_result"
    }
   ],
   "source": [
    "model = RandomForestRegressor(n_estimators=200, max_depth=11, n_jobs=-1, max_features='sqrt',\n",
    "                              random_state=42)"
   ]
  },
  {
   "cell_type": "code",
   "execution_count": 29,
   "metadata": {},
   "outputs": [
    {
     "data": {
      "text/plain": [
       "43.648844971104836"
      ]
     },
     "execution_count": 29,
     "metadata": {},
     "output_type": "execute_result"
    }
   ],
   "source": [
    "y_prime = model.predict(X_val)\n",
    "sq_error = rmse(y_val, y_prime)\n",
    "sq_error"
   ]
  },
  {
   "cell_type": "code",
   "execution_count": 81,
   "metadata": {
    "collapsed": true
   },
   "outputs": [
    {
     "data": {
      "text/plain": [
       "Text(0.5, 0, 'Air Quality')"
      ]
     },
     "execution_count": 81,
     "metadata": {},
     "output_type": "execute_result"
    },
    {
     "data": {
      "image/png": "[encoded data removed]",
      "text/plain": [
       "<Figure size 432x288 with 1 Axes>"
      ]
     },
     "metadata": {
      "needs_background": "light"
     },
     "output_type": "display_data"
    }
   ],
   "source": [
    "ax = y.plot(kind='hist')\n",
    "plt.xlabel('Air Quality')"
   ]
  },
  {
   "cell_type": "code",
   "execution_count": 30,
   "metadata": {
    "colab": {},
    "colab_type": "code",
    "id": "X1cYRRTpHhuV"
   },
   "outputs": [],
   "source": [
    "predictions = model.predict(test)"
   ]
  },
  {
   "cell_type": "code",
   "execution_count": 31,
   "metadata": {},
   "outputs": [
    {
     "data": {
      "text/plain": [
       "Text(0.5, 0, 'Air Quality')"
      ]
     },
     "execution_count": 31,
     "metadata": {},
     "output_type": "execute_result"
    },
    {
     "data": {
      "image/png": "[encoded data removed]",
      "text/plain": [
       "<Figure size 432x288 with 1 Axes>"
      ]
     },
     "metadata": {
      "needs_background": "light"
     },
     "output_type": "display_data"
    }
   ],
   "source": [
    "plt.hist(predictions, bins=10)\n",
    "plt.xlabel('Air Quality')"
   ]
  },
  {
   "cell_type": "code",
   "execution_count": 14,
   "metadata": {
    "colab": {},
    "colab_type": "code",
    "id": "G20R-1ixHhuY",
    "outputId": "0d443512-8b77-4fbc-f112-51edeb352ee0"
   },
   "outputs": [
    {
     "data": {
      "text/html": [
       "<div>\n",
       "<style scoped>\n",
       "    .dataframe tbody tr th:only-of-type {\n",
       "        vertical-align: middle;\n",
       "    }\n",
       "\n",
       "    .dataframe tbody tr th {\n",
       "        vertical-align: top;\n",
       "    }\n",
       "\n",
       "    .dataframe thead th {\n",
       "        text-align: right;\n",
       "    }\n",
       "</style>\n",
       "<table border=\"1\" class=\"dataframe\">\n",
       "  <thead>\n",
       "    <tr style=\"text-align: right;\">\n",
       "      <th></th>\n",
       "      <th>ID</th>\n",
       "      <th>target</th>\n",
       "    </tr>\n",
       "  </thead>\n",
       "  <tbody>\n",
       "    <tr>\n",
       "      <th>0</th>\n",
       "      <td>ID_test_0</td>\n",
       "      <td>47.177368</td>\n",
       "    </tr>\n",
       "    <tr>\n",
       "      <th>1</th>\n",
       "      <td>ID_test_1</td>\n",
       "      <td>47.177368</td>\n",
       "    </tr>\n",
       "    <tr>\n",
       "      <th>2</th>\n",
       "      <td>ID_test_10</td>\n",
       "      <td>47.177368</td>\n",
       "    </tr>\n",
       "    <tr>\n",
       "      <th>3</th>\n",
       "      <td>ID_test_100</td>\n",
       "      <td>47.177368</td>\n",
       "    </tr>\n",
       "    <tr>\n",
       "      <th>4</th>\n",
       "      <td>ID_test_1000</td>\n",
       "      <td>47.177368</td>\n",
       "    </tr>\n",
       "  </tbody>\n",
       "</table>\n",
       "</div>"
      ],
      "text/plain": [
       "             ID     target\n",
       "0     ID_test_0  47.177368\n",
       "1     ID_test_1  47.177368\n",
       "2    ID_test_10  47.177368\n",
       "3   ID_test_100  47.177368\n",
       "4  ID_test_1000  47.177368"
      ]
     },
     "execution_count": 14,
     "metadata": {},
     "output_type": "execute_result"
    }
   ],
   "source": [
    "sample_sub['ID'] = ids\n",
    "sample_sub['target'] = predictions\n",
    "sample_sub.head()"
   ]
  },
  {
   "cell_type": "code",
   "execution_count": 15,
   "metadata": {
    "colab": {},
    "colab_type": "code",
    "id": "B9CAkgdYHhua"
   },
   "outputs": [],
   "source": [
    "#sample_sub.to_csv(f\"./submissions/submission_rf_{np.round(np.mean(scores), 4)}.csv\", index=False)\n",
    "sample_sub.to_csv(f'./submissions/sub_svr_{np.round(np.mean(train_scores), 4)}.csv', index=False)"
   ]
  },
  {
   "cell_type": "code",
   "execution_count": 16,
   "metadata": {},
   "outputs": [],
   "source": [
    "#40.6376 (groupkfold) >>>> (best score) md:11.max_features:'sqrt',n_est:200"
   ]
  },
  {
   "cell_type": "code",
   "execution_count": 17,
   "metadata": {},
   "outputs": [
    {
     "data": {
      "text/plain": [
       "(47.17736811037563, 47.17736811037563)"
      ]
     },
     "execution_count": 17,
     "metadata": {},
     "output_type": "execute_result"
    }
   ],
   "source": [
    "max(sample_sub.target), min(sample_sub.target)"
   ]
  },
  {
   "cell_type": "code",
   "execution_count": null,
   "metadata": {},
   "outputs": [],
   "source": []
  }
 ],
 "metadata": {
  "colab": {
   "name": "StarterNotebook.ipynb",
   "provenance": []
  },
  "hide_input": false,
  "kernelspec": {
   "display_name": "base",
   "language": "python",
   "name": "base"
  },
  "language_info": {
   "codemirror_mode": {
    "name": "ipython",
    "version": 3
   },
   "file_extension": ".py",
   "mimetype": "text/x-python",
   "name": "python",
   "nbconvert_exporter": "python",
   "pygments_lexer": "ipython3",
   "version": "3.7.3"
  }
 },
 "nbformat": 4,
 "nbformat_minor": 1
}
